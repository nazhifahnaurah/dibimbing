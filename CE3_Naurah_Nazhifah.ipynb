{
  "cells": [
    {
      "cell_type": "markdown",
      "id": "e5a925ec",
      "metadata": {
        "id": "e5a925ec"
      },
      "source": [
        "## Coding Exercise 3 - Parsing Dates"
      ]
    },
    {
      "cell_type": "markdown",
      "id": "7af0ac5d",
      "metadata": {
        "id": "7af0ac5d"
      },
      "source": [
        "### Question 1: How much time has passed?"
      ]
    },
    {
      "cell_type": "markdown",
      "id": "3a084cb1",
      "metadata": {
        "id": "3a084cb1"
      },
      "source": [
        "Saat mengerjakan proyek Data Science, kita mungkin menemukan data dalam format Tanggal yang merujuk pada titik waktu tertentu. Mereka sering datang dalam format yang sangat berbeda - beberapa mungkin hanya memiliki tanggal, beberapa mungkin memiliki bulan dan tahun, dan beberapa bahkan memiliki waktu yang tepat (jam, menit, detik) dan zona waktu.\n",
        "\n",
        "Clue: Anda dapat menggunakan library apa pun untuk membantu Anda.\n",
        "\n",
        "Dalam latihan ini, explore beberapa cara untuk memuat string yang memberi tahu kita tanggal sehingga kita dapat menghitung perbedaan antara dua tanggal input.\n",
        "\n",
        "Anda akan diminta untuk menulis fungsi bernama `duration_count` yang mengambil 2 input. Kedua input adalah string yang memberi tahu Anda tanggalnya. Output fungsi Anda haruslah durasi antara 2 input, dalam detik.\n",
        "\n",
        "Format inputnya adalah: \"Tanggal Bulan Tahun Jam:Menit:Detik Informasi_Zona_Waktu\"\n",
        "\n",
        "#### Contoh 1:\n",
        "\n",
        "- Input 1 = 'Mon 23 Feb 2017 14:41:10 -0800'\n",
        "- Input 2 = 'Mon 23 Feb 2017 14:41:10 -0200'\n",
        "\n",
        "Kedua input merujuk pada tanggal dan waktu yang sama, tetapi dalam zona waktu yang berbeda. Oleh karena itu, durasi antara kedua tanggal ini adalah: 6 jam. Namun, karena kita ingin jawaban dalam detik, jawaban yang diharapkan adalah 21600 detik. (Outputnya hanya 21600, Anda tidak perlu menulis detik).\n",
        "\n",
        "#### Contoh 2:\n",
        "\n",
        "- Input 1 = 'Mon 23 Dec 2017 14:00:00 -0700'\n",
        "- Input 2 = 'Tue 24 Dec 2017 14:00:00 -0700'\n",
        "\n",
        "Kedua input merujuk pada waktu yang sama dan berada di zona waktu yang sama. Namun, mereka berjarak 1 hari. Oleh karena itu, durasi antara mereka adalah: 1 hari = 1 x 24 x 3600 = 86400 detik.\n",
        "\n",
        "#### Extra Clue:\n",
        "\n",
        "Format harinya disingkat (kita input Mon alih-alih Monday), dan bulannya juga disingkat (kita input Dec alih-alih December)."
      ]
    },
    {
      "cell_type": "code",
      "execution_count": 1,
      "id": "72ed82b3",
      "metadata": {
        "id": "72ed82b3"
      },
      "outputs": [],
      "source": [
        "from datetime import datetime, timedelta\n",
        "\n",
        "def duration_count(input_1, input_2):\n",
        "    date_format = '%a %d %b %Y %H:%M:%S %z'\n",
        "    date1 = datetime.strptime(input_1, date_format)\n",
        "    date2 = datetime.strptime(input_2, date_format)\n",
        "\n",
        "    duration = abs(date2 - date1)\n",
        "\n",
        "    seconds = duration.total_seconds()\n",
        "\n",
        "    return int(seconds)"
      ]
    },
    {
      "cell_type": "code",
      "execution_count": 2,
      "id": "1bb00ca0",
      "metadata": {
        "id": "1bb00ca0",
        "colab": {
          "base_uri": "https://localhost:8080/"
        },
        "outputId": "4767a39f-8dbd-4632-e121-90016a78d878"
      },
      "outputs": [
        {
          "output_type": "stream",
          "name": "stdout",
          "text": [
            "Durasi antara input 1 dan input 2: 21600 detik\n"
          ]
        }
      ],
      "source": [
        "input1 = 'Mon 23 Feb 2017 14:41:10 -0800'\n",
        "input2 = 'Mon 23 Feb 2017 14:41:10 -0200'\n",
        "output1 = duration_count(input1, input2)\n",
        "print(f\"Durasi antara input 1 dan input 2: {output1} detik\")"
      ]
    },
    {
      "cell_type": "code",
      "execution_count": 3,
      "id": "c8268c82",
      "metadata": {
        "id": "c8268c82",
        "colab": {
          "base_uri": "https://localhost:8080/"
        },
        "outputId": "d584ec28-6166-4e02-fa25-c342cbdddfec"
      },
      "outputs": [
        {
          "output_type": "stream",
          "name": "stdout",
          "text": [
            "Durasi antara input 3 dan input 4: 86400 detik\n"
          ]
        }
      ],
      "source": [
        "input3 = 'Mon 23 Dec 2017 14:00:00 -0700'\n",
        "input4 = 'Tue 24 Dec 2017 14:00:00 -0700'\n",
        "output2 = duration_count(input3, input4)\n",
        "print(f\"Durasi antara input 3 dan input 4: {output2} detik\")"
      ]
    },
    {
      "cell_type": "markdown",
      "id": "4f412fd8",
      "metadata": {
        "id": "4f412fd8"
      },
      "source": [
        "### Question 2: What Day is It?"
      ]
    },
    {
      "cell_type": "markdown",
      "id": "39d792d7",
      "metadata": {
        "id": "39d792d7"
      },
      "source": [
        "Dalam data time series, kita biasanya ingin tahu hari apa itu. Biasanya tidak cukup hanya mengetahui 'angka' tanggal, terutama ketika hari yang sangat penting untuk data kita (misalnya: analisis perilaku pelanggan). Dalam skenario analisis perilaku pelanggan, kita mungkin menemukan perilaku yang berbeda pada Monday - Friday vs Saturday - Sunday (akhir pekan). Mengetahui hari juga memungkinkan kita untuk memetakan beberapa musim.\n",
        "\n",
        "Diberikan 3 input: tanggal pertama, lalu bulan, dan terakhir tahun. Bisakah Anda memberi tahu kami hari apa itu? Anda dapat menggunakan library apa pun yang Anda inginkan. Nama fungsi Anda harus bernama `find_day`.\n",
        "\n",
        "#### Contoh 1:\n",
        "\n",
        "`find_day(11,10,2021)` harus memberikan output \"Monday\", karena 11 October 2021 adalah hari Senin.\n",
        "\n",
        "#### Contoh 2:\n",
        "\n",
        "`find_day(17,8,1945)` harus memberikan output \"Friday\", karena 17 Agustus 1945 adalah hari Jumat."
      ]
    },
    {
      "cell_type": "code",
      "execution_count": 4,
      "id": "3687eec4",
      "metadata": {
        "id": "3687eec4"
      },
      "outputs": [],
      "source": [
        "def find_day(day, month, year):\n",
        "    date_obj = datetime(year, month, day)\n",
        "\n",
        "    day_name = date_obj.strftime('%A')\n",
        "\n",
        "    return day_name"
      ]
    },
    {
      "cell_type": "code",
      "execution_count": 5,
      "id": "f2ed9902",
      "metadata": {
        "id": "f2ed9902",
        "colab": {
          "base_uri": "https://localhost:8080/"
        },
        "outputId": "fee50a19-6c7e-484a-e0f9-326368b4e292"
      },
      "outputs": [
        {
          "output_type": "stream",
          "name": "stdout",
          "text": [
            "Hari untuk tanggal 11 October 2021: Monday\n"
          ]
        }
      ],
      "source": [
        "result1 = find_day(11, 10, 2021)\n",
        "print(f\"Hari untuk tanggal 11 October 2021: {result1}\")"
      ]
    },
    {
      "cell_type": "code",
      "execution_count": 6,
      "id": "e1911f45",
      "metadata": {
        "id": "e1911f45",
        "colab": {
          "base_uri": "https://localhost:8080/"
        },
        "outputId": "d141ff96-2ff3-41b7-c137-5c19c306e558"
      },
      "outputs": [
        {
          "output_type": "stream",
          "name": "stdout",
          "text": [
            "Hari untuk tanggal 17 Agustus 1945: Friday\n"
          ]
        }
      ],
      "source": [
        "result2 = find_day(17, 8, 1945)\n",
        "print(f\"Hari untuk tanggal 17 Agustus 1945: {result2}\")"
      ]
    },
    {
      "cell_type": "code",
      "execution_count": null,
      "id": "01b6afe6",
      "metadata": {
        "id": "01b6afe6"
      },
      "outputs": [],
      "source": []
    },
    {
      "cell_type": "code",
      "execution_count": null,
      "id": "ae4210cd",
      "metadata": {
        "id": "ae4210cd"
      },
      "outputs": [],
      "source": []
    },
    {
      "cell_type": "code",
      "execution_count": null,
      "id": "3da5542b",
      "metadata": {
        "id": "3da5542b"
      },
      "outputs": [],
      "source": []
    }
  ],
  "metadata": {
    "kernelspec": {
      "display_name": "Python 3",
      "language": "python",
      "name": "python3"
    },
    "language_info": {
      "codemirror_mode": {
        "name": "ipython",
        "version": 3
      },
      "file_extension": ".py",
      "mimetype": "text/x-python",
      "name": "python",
      "nbconvert_exporter": "python",
      "pygments_lexer": "ipython3",
      "version": "3.7.0"
    },
    "colab": {
      "provenance": []
    }
  },
  "nbformat": 4,
  "nbformat_minor": 5
}