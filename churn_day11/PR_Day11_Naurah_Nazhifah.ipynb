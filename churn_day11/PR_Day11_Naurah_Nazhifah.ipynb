{
  "cells": [
    {
      "cell_type": "code",
      "execution_count": null,
      "id": "f474f8a3",
      "metadata": {
        "id": "f474f8a3"
      },
      "outputs": [],
      "source": [
        "# load pandas untuk data wrangling\n",
        "import pandas as pd\n",
        "# load numpy untuk manipulasi vektor\n",
        "import numpy as np\n",
        "# load matplotlib untuk visualisasi data\n",
        "import matplotlib.pyplot as plt\n",
        "# load seaborn untuk visualisasi data\n",
        "import seaborn as sns\n",
        "\n",
        "# load metrics object dari sklearn\n",
        "from sklearn import metrics\n",
        "# load train-test data splitter\n",
        "from sklearn.model_selection import train_test_split\n",
        "# Import Decision Tree classifier (DT)\n",
        "from sklearn.tree import DecisionTreeClassifier\n",
        "# Import Logistic Regression classifier\n",
        "from sklearn.linear_model import LogisticRegression\n",
        "# load SVM classifier model\n",
        "from sklearn.svm import SVC\n",
        "# load KNN classifier model\n",
        "from sklearn.neighbors import KNeighborsClassifier\n",
        "from sklearn.ensemble import RandomForestClassifier\n",
        "from sklearn.preprocessing import LabelEncoder, StandardScaler\n",
        "\n",
        "#import for metrics\n",
        "from sklearn.metrics import precision_score, \\\n",
        "    recall_score, confusion_matrix, classification_report, \\\n",
        "    accuracy_score, f1_score, roc_auc_score\n",
        "from sklearn.metrics import confusion_matrix,ConfusionMatrixDisplay,classification_report,accuracy_score\n",
        "\n",
        "# Set the maximum number of columns and rows to display to a large number\n",
        "pd.set_option('display.max_columns', None)\n",
        "pd.set_option('display.max_rows', None)\n",
        "\n",
        "%matplotlib inline"
      ]
    },
    {
      "cell_type": "markdown",
      "id": "HsBRQNWxevS4",
      "metadata": {
        "id": "HsBRQNWxevS4"
      },
      "source": [
        "### Dataset Bank Customer Churn"
      ]
    },
    {
      "cell_type": "code",
      "execution_count": null,
      "id": "8677fadb",
      "metadata": {
        "id": "8677fadb",
        "outputId": "5c7f1740-83b3-4c32-8609-d380fd9be32c"
      },
      "outputs": [
        {
          "data": {
            "text/html": [
              "<div>\n",
              "<style scoped>\n",
              "    .dataframe tbody tr th:only-of-type {\n",
              "        vertical-align: middle;\n",
              "    }\n",
              "\n",
              "    .dataframe tbody tr th {\n",
              "        vertical-align: top;\n",
              "    }\n",
              "\n",
              "    .dataframe thead th {\n",
              "        text-align: right;\n",
              "    }\n",
              "</style>\n",
              "<table border=\"1\" class=\"dataframe\">\n",
              "  <thead>\n",
              "    <tr style=\"text-align: right;\">\n",
              "      <th></th>\n",
              "      <th>customer_id</th>\n",
              "      <th>vintage</th>\n",
              "      <th>age</th>\n",
              "      <th>gender</th>\n",
              "      <th>dependents</th>\n",
              "      <th>occupation</th>\n",
              "      <th>city</th>\n",
              "      <th>customer_nw_category</th>\n",
              "      <th>branch_code</th>\n",
              "      <th>current_balance</th>\n",
              "      <th>previous_month_end_balance</th>\n",
              "      <th>average_monthly_balance_prevQ</th>\n",
              "      <th>average_monthly_balance_prevQ2</th>\n",
              "      <th>current_month_credit</th>\n",
              "      <th>previous_month_credit</th>\n",
              "      <th>current_month_debit</th>\n",
              "      <th>previous_month_debit</th>\n",
              "      <th>current_month_balance</th>\n",
              "      <th>previous_month_balance</th>\n",
              "      <th>churn</th>\n",
              "      <th>last_transaction</th>\n",
              "    </tr>\n",
              "  </thead>\n",
              "  <tbody>\n",
              "    <tr>\n",
              "      <th>0</th>\n",
              "      <td>1</td>\n",
              "      <td>2101</td>\n",
              "      <td>66</td>\n",
              "      <td>Male</td>\n",
              "      <td>0.0</td>\n",
              "      <td>self_employed</td>\n",
              "      <td>187.0</td>\n",
              "      <td>2</td>\n",
              "      <td>755</td>\n",
              "      <td>1458.71</td>\n",
              "      <td>1458.71</td>\n",
              "      <td>1458.71</td>\n",
              "      <td>1449.07</td>\n",
              "      <td>0.20</td>\n",
              "      <td>0.20</td>\n",
              "      <td>0.20</td>\n",
              "      <td>0.20</td>\n",
              "      <td>1458.71</td>\n",
              "      <td>1458.71</td>\n",
              "      <td>0</td>\n",
              "      <td>2019-05-21</td>\n",
              "    </tr>\n",
              "    <tr>\n",
              "      <th>1</th>\n",
              "      <td>2</td>\n",
              "      <td>2348</td>\n",
              "      <td>35</td>\n",
              "      <td>Male</td>\n",
              "      <td>0.0</td>\n",
              "      <td>self_employed</td>\n",
              "      <td>NaN</td>\n",
              "      <td>2</td>\n",
              "      <td>3214</td>\n",
              "      <td>5390.37</td>\n",
              "      <td>8704.66</td>\n",
              "      <td>7799.26</td>\n",
              "      <td>12419.41</td>\n",
              "      <td>0.56</td>\n",
              "      <td>0.56</td>\n",
              "      <td>5486.27</td>\n",
              "      <td>100.56</td>\n",
              "      <td>6496.78</td>\n",
              "      <td>8787.61</td>\n",
              "      <td>0</td>\n",
              "      <td>2019-11-01</td>\n",
              "    </tr>\n",
              "    <tr>\n",
              "      <th>2</th>\n",
              "      <td>4</td>\n",
              "      <td>2194</td>\n",
              "      <td>31</td>\n",
              "      <td>Male</td>\n",
              "      <td>0.0</td>\n",
              "      <td>salaried</td>\n",
              "      <td>146.0</td>\n",
              "      <td>2</td>\n",
              "      <td>41</td>\n",
              "      <td>3913.16</td>\n",
              "      <td>5815.29</td>\n",
              "      <td>4910.17</td>\n",
              "      <td>2815.94</td>\n",
              "      <td>0.61</td>\n",
              "      <td>0.61</td>\n",
              "      <td>6046.73</td>\n",
              "      <td>259.23</td>\n",
              "      <td>5006.28</td>\n",
              "      <td>5070.14</td>\n",
              "      <td>0</td>\n",
              "      <td>NaT</td>\n",
              "    </tr>\n",
              "    <tr>\n",
              "      <th>3</th>\n",
              "      <td>5</td>\n",
              "      <td>2329</td>\n",
              "      <td>90</td>\n",
              "      <td>NaN</td>\n",
              "      <td>NaN</td>\n",
              "      <td>self_employed</td>\n",
              "      <td>1020.0</td>\n",
              "      <td>2</td>\n",
              "      <td>582</td>\n",
              "      <td>2291.91</td>\n",
              "      <td>2291.91</td>\n",
              "      <td>2084.54</td>\n",
              "      <td>1006.54</td>\n",
              "      <td>0.47</td>\n",
              "      <td>0.47</td>\n",
              "      <td>0.47</td>\n",
              "      <td>2143.33</td>\n",
              "      <td>2291.91</td>\n",
              "      <td>1669.79</td>\n",
              "      <td>1</td>\n",
              "      <td>2019-08-06</td>\n",
              "    </tr>\n",
              "    <tr>\n",
              "      <th>4</th>\n",
              "      <td>6</td>\n",
              "      <td>1579</td>\n",
              "      <td>42</td>\n",
              "      <td>Male</td>\n",
              "      <td>2.0</td>\n",
              "      <td>self_employed</td>\n",
              "      <td>1494.0</td>\n",
              "      <td>3</td>\n",
              "      <td>388</td>\n",
              "      <td>927.72</td>\n",
              "      <td>1401.72</td>\n",
              "      <td>1643.31</td>\n",
              "      <td>1871.12</td>\n",
              "      <td>0.33</td>\n",
              "      <td>714.61</td>\n",
              "      <td>588.62</td>\n",
              "      <td>1538.06</td>\n",
              "      <td>1157.15</td>\n",
              "      <td>1677.16</td>\n",
              "      <td>1</td>\n",
              "      <td>2019-11-03</td>\n",
              "    </tr>\n",
              "  </tbody>\n",
              "</table>\n",
              "</div>"
            ],
            "text/plain": [
              "   customer_id  vintage  age gender  dependents     occupation    city  \\\n",
              "0            1     2101   66   Male         0.0  self_employed   187.0   \n",
              "1            2     2348   35   Male         0.0  self_employed     NaN   \n",
              "2            4     2194   31   Male         0.0       salaried   146.0   \n",
              "3            5     2329   90    NaN         NaN  self_employed  1020.0   \n",
              "4            6     1579   42   Male         2.0  self_employed  1494.0   \n",
              "\n",
              "   customer_nw_category  branch_code  current_balance  \\\n",
              "0                     2          755          1458.71   \n",
              "1                     2         3214          5390.37   \n",
              "2                     2           41          3913.16   \n",
              "3                     2          582          2291.91   \n",
              "4                     3          388           927.72   \n",
              "\n",
              "   previous_month_end_balance  average_monthly_balance_prevQ  \\\n",
              "0                     1458.71                        1458.71   \n",
              "1                     8704.66                        7799.26   \n",
              "2                     5815.29                        4910.17   \n",
              "3                     2291.91                        2084.54   \n",
              "4                     1401.72                        1643.31   \n",
              "\n",
              "   average_monthly_balance_prevQ2  current_month_credit  \\\n",
              "0                         1449.07                  0.20   \n",
              "1                        12419.41                  0.56   \n",
              "2                         2815.94                  0.61   \n",
              "3                         1006.54                  0.47   \n",
              "4                         1871.12                  0.33   \n",
              "\n",
              "   previous_month_credit  current_month_debit  previous_month_debit  \\\n",
              "0                   0.20                 0.20                  0.20   \n",
              "1                   0.56              5486.27                100.56   \n",
              "2                   0.61              6046.73                259.23   \n",
              "3                   0.47                 0.47               2143.33   \n",
              "4                 714.61               588.62               1538.06   \n",
              "\n",
              "   current_month_balance  previous_month_balance  churn last_transaction  \n",
              "0                1458.71                 1458.71      0       2019-05-21  \n",
              "1                6496.78                 8787.61      0       2019-11-01  \n",
              "2                5006.28                 5070.14      0              NaT  \n",
              "3                2291.91                 1669.79      1       2019-08-06  \n",
              "4                1157.15                 1677.16      1       2019-11-03  "
            ]
          },
          "execution_count": 2,
          "metadata": {},
          "output_type": "execute_result"
        }
      ],
      "source": [
        "# load dataset ke raw_data\n",
        "data = pd.read_csv('churn_prediction.csv')\n",
        "# data['Churn'].replace(['Yes','No'],[1,0],inplace=True)\n",
        "data.head()"
      ]
    },
    {
      "cell_type": "code",
      "execution_count": null,
      "id": "6c884223",
      "metadata": {
        "id": "6c884223",
        "outputId": "dc15bea4-352c-4a83-b65e-7234bf1b5dd7"
      },
      "outputs": [
        {
          "name": "stdout",
          "output_type": "stream",
          "text": [
            "<class 'pandas.core.frame.DataFrame'>\n",
            "RangeIndex: 28382 entries, 0 to 28381\n",
            "Data columns (total 21 columns):\n",
            " #   Column                          Non-Null Count  Dtype  \n",
            "---  ------                          --------------  -----  \n",
            " 0   customer_id                     28382 non-null  int64  \n",
            " 1   vintage                         28382 non-null  int64  \n",
            " 2   age                             28382 non-null  int64  \n",
            " 3   gender                          27857 non-null  object \n",
            " 4   dependents                      25919 non-null  float64\n",
            " 5   occupation                      28302 non-null  object \n",
            " 6   city                            27579 non-null  float64\n",
            " 7   customer_nw_category            28382 non-null  int64  \n",
            " 8   branch_code                     28382 non-null  int64  \n",
            " 9   current_balance                 28382 non-null  float64\n",
            " 10  previous_month_end_balance      28382 non-null  float64\n",
            " 11  average_monthly_balance_prevQ   28382 non-null  float64\n",
            " 12  average_monthly_balance_prevQ2  28382 non-null  float64\n",
            " 13  current_month_credit            28382 non-null  float64\n",
            " 14  previous_month_credit           28382 non-null  float64\n",
            " 15  current_month_debit             28382 non-null  float64\n",
            " 16  previous_month_debit            28382 non-null  float64\n",
            " 17  current_month_balance           28382 non-null  float64\n",
            " 18  previous_month_balance          28382 non-null  float64\n",
            " 19  churn                           28382 non-null  int64  \n",
            " 20  last_transaction                28382 non-null  object \n",
            "dtypes: float64(12), int64(6), object(3)\n",
            "memory usage: 4.5+ MB\n"
          ]
        }
      ],
      "source": [
        "data.info()"
      ]
    },
    {
      "cell_type": "markdown",
      "id": "a86e22cb",
      "metadata": {
        "id": "a86e22cb"
      },
      "source": [
        "## Exploratory Data Analysis"
      ]
    },
    {
      "cell_type": "code",
      "execution_count": null,
      "id": "51235932",
      "metadata": {
        "id": "51235932",
        "outputId": "1d91f66c-93dd-4ccd-ce51-65843cb81ad3"
      },
      "outputs": [
        {
          "data": {
            "image/png": "[encoded data removed]",
            "text/plain": [
              "<Figure size 500x500 with 1 Axes>"
            ]
          },
          "metadata": {},
          "output_type": "display_data"
        }
      ],
      "source": [
        "# 1. Categorical Column\n",
        "sns.catplot(x = \"churn\", kind = \"count\", data = data);"
      ]
    },
    {
      "cell_type": "markdown",
      "id": "7f1fa817",
      "metadata": {
        "id": "7f1fa817"
      },
      "source": [
        "Disini saya menghitung jumlah nilai unik dalam kolom 'churn' dan kemudian dinormalisasi."
      ]
    },
    {
      "cell_type": "code",
      "execution_count": null,
      "id": "4e160045",
      "metadata": {
        "id": "4e160045",
        "outputId": "bd2a2a96-4beb-4484-d90d-e1381923c0e8"
      },
      "outputs": [
        {
          "data": {
            "text/plain": [
              "churn\n",
              "0    0.814671\n",
              "1    0.185329\n",
              "Name: proportion, dtype: float64"
            ]
          },
          "execution_count": 5,
          "metadata": {},
          "output_type": "execute_result"
        }
      ],
      "source": [
        "data['churn'].value_counts(normalize=True)"
      ]
    },
    {
      "cell_type": "markdown",
      "id": "3bac5246",
      "metadata": {
        "id": "3bac5246"
      },
      "source": [
        "## **Categorical Data vs Churn**"
      ]
    },
    {
      "cell_type": "code",
      "execution_count": null,
      "id": "52a1889f",
      "metadata": {
        "id": "52a1889f"
      },
      "outputs": [],
      "source": [
        "def proportional_aggregation(df, y, x):\n",
        "    temp_df = df.groupby([y,x], as_index = False).size()\n",
        "    temp_df['proportional'] = temp_df['size'] / temp_df.groupby(y)['size'].transform('sum')\n",
        "    return temp_df"
      ]
    },
    {
      "cell_type": "markdown",
      "id": "1bb361f4",
      "metadata": {
        "id": "1bb361f4"
      },
      "source": [
        "Disini saya membuat fungsi \"proportional_aggregation\" untuk menghitung proporsi relatif suatu nilai terhadap total dalam kategori pada data tertentu."
      ]
    },
    {
      "cell_type": "markdown",
      "id": "e499f462",
      "metadata": {
        "id": "e499f462"
      },
      "source": [
        "### Gender vs Churn"
      ]
    },
    {
      "cell_type": "code",
      "execution_count": null,
      "id": "c59ad60f",
      "metadata": {
        "id": "c59ad60f",
        "outputId": "ada6f954-67a6-47bd-e923-f6987388c216"
      },
      "outputs": [
        {
          "data": {
            "text/html": [
              "<div>\n",
              "<style scoped>\n",
              "    .dataframe tbody tr th:only-of-type {\n",
              "        vertical-align: middle;\n",
              "    }\n",
              "\n",
              "    .dataframe tbody tr th {\n",
              "        vertical-align: top;\n",
              "    }\n",
              "\n",
              "    .dataframe thead th {\n",
              "        text-align: right;\n",
              "    }\n",
              "</style>\n",
              "<table border=\"1\" class=\"dataframe\">\n",
              "  <thead>\n",
              "    <tr style=\"text-align: right;\">\n",
              "      <th></th>\n",
              "      <th>churn</th>\n",
              "      <th>gender</th>\n",
              "      <th>size</th>\n",
              "    </tr>\n",
              "  </thead>\n",
              "  <tbody>\n",
              "    <tr>\n",
              "      <th>0</th>\n",
              "      <td>0</td>\n",
              "      <td>Female</td>\n",
              "      <td>9324</td>\n",
              "    </tr>\n",
              "    <tr>\n",
              "      <th>1</th>\n",
              "      <td>0</td>\n",
              "      <td>Male</td>\n",
              "      <td>13379</td>\n",
              "    </tr>\n",
              "    <tr>\n",
              "      <th>2</th>\n",
              "      <td>1</td>\n",
              "      <td>Female</td>\n",
              "      <td>1985</td>\n",
              "    </tr>\n",
              "    <tr>\n",
              "      <th>3</th>\n",
              "      <td>1</td>\n",
              "      <td>Male</td>\n",
              "      <td>3169</td>\n",
              "    </tr>\n",
              "  </tbody>\n",
              "</table>\n",
              "</div>"
            ],
            "text/plain": [
              "   churn  gender   size\n",
              "0      0  Female   9324\n",
              "1      0    Male  13379\n",
              "2      1  Female   1985\n",
              "3      1    Male   3169"
            ]
          },
          "execution_count": 7,
          "metadata": {},
          "output_type": "execute_result"
        }
      ],
      "source": [
        "temp_raw = data.groupby(['churn','gender'], as_index = False).size()\n",
        "temp_raw"
      ]
    },
    {
      "cell_type": "code",
      "execution_count": null,
      "id": "ef17bf29",
      "metadata": {
        "id": "ef17bf29"
      },
      "outputs": [],
      "source": [
        "# temp_raw[temp_raw['gender'] == 'Male']['size'].sum() / temp_raw[temp_raw['gender'] == 'Female']['size'].sum()"
      ]
    },
    {
      "cell_type": "code",
      "execution_count": null,
      "id": "c2d4a935",
      "metadata": {
        "id": "c2d4a935",
        "outputId": "adf3d59d-4009-4532-f225-18dd4ea62c35"
      },
      "outputs": [
        {
          "data": {
            "image/png": "[encoded data removed]",
            "text/plain": [
              "<Figure size 1500x700 with 1 Axes>"
            ]
          },
          "metadata": {},
          "output_type": "display_data"
        }
      ],
      "source": [
        "data_proportional = proportional_aggregation(data, \"churn\", \"gender\")\n",
        "\n",
        "plt.figure(figsize=(15, 7))\n",
        "sns.barplot(x=\"gender\", y=\"proportional\", hue=\"churn\", data=data_proportional)\n",
        "plt.title(\"Proportional Churn by Gender\")\n",
        "plt.ylabel(\"Proportional\")\n",
        "plt.xlabel(\"Gender\")\n",
        "plt.show()"
      ]
    },
    {
      "cell_type": "markdown",
      "id": "000e5069",
      "metadata": {
        "id": "000e5069"
      },
      "source": [
        "Dari barplot diatas terdapat 1,5 kali lebih banyak akun laki-laki dibandingkan akun perempuan."
      ]
    },
    {
      "cell_type": "markdown",
      "id": "396fd568",
      "metadata": {
        "id": "396fd568"
      },
      "source": [
        "### Occupation vs Churn"
      ]
    },
    {
      "cell_type": "code",
      "execution_count": null,
      "id": "1775151d",
      "metadata": {
        "id": "1775151d",
        "outputId": "b8915ef0-ca7f-4d1b-830b-142a473a7a4c"
      },
      "outputs": [
        {
          "data": {
            "image/png": "[encoded data removed]",
            "text/plain": [
              "<Figure size 1500x700 with 1 Axes>"
            ]
          },
          "metadata": {},
          "output_type": "display_data"
        }
      ],
      "source": [
        "data_proportional = proportional_aggregation(data, \"churn\", \"occupation\")\n",
        "\n",
        "plt.figure(figsize=(15, 7))\n",
        "sns.barplot(x=\"occupation\", y=\"proportional\", hue=\"churn\", data=data_proportional)\n",
        "plt.title(\"Proportional Churn by Occupation\")\n",
        "plt.ylabel(\"Proportional\")\n",
        "plt.xlabel(\"Occupation\")\n",
        "plt.show()"
      ]
    },
    {
      "cell_type": "markdown",
      "id": "552ce6d4",
      "metadata": {
        "id": "552ce6d4"
      },
      "source": [
        "mayoritas individu dalam masyarakat memiliki pekerjaan sebagai wiraswasta. Pada saat yang sama, jumlah rekening perusahaan tercatat sangat sedikit. Perbedaan ini dapat menjadi fokus perhatian, terutama ketika melihat adanya transaksi yang tergolong sebagai outlier."
      ]
    },
    {
      "cell_type": "markdown",
      "id": "83759ce5",
      "metadata": {
        "id": "83759ce5"
      },
      "source": [
        "### Customer nw category vs Churn"
      ]
    },
    {
      "cell_type": "code",
      "execution_count": null,
      "id": "48004af4",
      "metadata": {
        "id": "48004af4"
      },
      "outputs": [],
      "source": [
        "# data['customer_nw_category'].value_counts()"
      ]
    },
    {
      "cell_type": "code",
      "execution_count": null,
      "id": "cdb5be0c",
      "metadata": {
        "id": "cdb5be0c",
        "outputId": "303cd7aa-351e-4836-a890-4450c7b5b865"
      },
      "outputs": [
        {
          "data": {
            "image/png": "[encoded data removed]",
            "text/plain": [
              "<Figure size 1500x700 with 1 Axes>"
            ]
          },
          "metadata": {},
          "output_type": "display_data"
        }
      ],
      "source": [
        "data_proportional = proportional_aggregation(data, \"churn\", \"customer_nw_category\")\n",
        "\n",
        "plt.figure(figsize=(15, 7))\n",
        "sns.barplot(x=\"customer_nw_category\", y=\"proportional\", hue=\"churn\", data=data_proportional)\n",
        "plt.title(\"Proportional Churn by customer_nw_category\")\n",
        "plt.ylabel(\"Proportional\")\n",
        "plt.xlabel(\"customer_nw_category\")\n",
        "plt.show()"
      ]
    },
    {
      "cell_type": "markdown",
      "id": "3064ac84",
      "metadata": {
        "id": "3064ac84"
      },
      "source": [
        "Bisa dilihat bahwa, kurang dari 15% termasuk dalam kategori kekayaan bersih tertinggi."
      ]
    },
    {
      "cell_type": "markdown",
      "id": "c5ef554f",
      "metadata": {
        "id": "c5ef554f"
      },
      "source": [
        "## **Numerical Data vs Churn**"
      ]
    },
    {
      "cell_type": "markdown",
      "id": "340afc83",
      "metadata": {
        "id": "340afc83"
      },
      "source": [
        "### Age vs Churn"
      ]
    },
    {
      "cell_type": "code",
      "execution_count": null,
      "id": "b3a61a74",
      "metadata": {
        "id": "b3a61a74",
        "outputId": "b9b18374-f97c-4c47-9509-7bdeded0856c"
      },
      "outputs": [
        {
          "data": {
            "image/png": "[encoded data removed]",
            "text/plain": [
              "<Figure size 640x480 with 1 Axes>"
            ]
          },
          "metadata": {},
          "output_type": "display_data"
        }
      ],
      "source": [
        "# 2. numeric column\n",
        "sns.boxplot(x = \"churn\", y = \"age\", data = data);"
      ]
    },
    {
      "cell_type": "markdown",
      "id": "f5516edb",
      "metadata": {
        "id": "f5516edb"
      },
      "source": [
        "Usia sebagian besar pelanggan adalah sekitar 30 hingga 60 tahun"
      ]
    },
    {
      "cell_type": "markdown",
      "id": "913655ed",
      "metadata": {
        "id": "913655ed"
      },
      "source": [
        "### Vintage vs Churn"
      ]
    },
    {
      "cell_type": "code",
      "execution_count": null,
      "id": "d733b726",
      "metadata": {
        "id": "d733b726",
        "outputId": "393f899a-e290-4b71-b4f5-70e85d0ceea7"
      },
      "outputs": [
        {
          "data": {
            "image/png": "[encoded data removed]",
            "text/plain": [
              "<Figure size 640x480 with 1 Axes>"
            ]
          },
          "metadata": {},
          "output_type": "display_data"
        }
      ],
      "source": [
        "sns.boxplot(x = \"churn\", y = \"vintage\", data = data);"
      ]
    },
    {
      "cell_type": "markdown",
      "id": "35ba07be",
      "metadata": {
        "id": "35ba07be"
      },
      "source": [
        "sebagian besar pelanggan bergabung dalam rentang waktu sekitar 2100 hari sejak hari ekstraksi data. Hal ini mungkin mencerminkan pola pendaftaran atau keanggotaan yang umum terjadi pada periode tertentu, menunjukkan tren atau kecenderungan tertentu dalam waktu."
      ]
    },
    {
      "cell_type": "markdown",
      "id": "f158f87e",
      "metadata": {
        "id": "f158f87e"
      },
      "source": [
        "### Current month vs Churn"
      ]
    },
    {
      "cell_type": "code",
      "execution_count": null,
      "id": "a71221eb",
      "metadata": {
        "id": "a71221eb",
        "outputId": "c2c51e77-7c11-45c2-ada9-9ed4380cac91"
      },
      "outputs": [
        {
          "data": {
            "image/png": "[encoded data removed]",
            "text/plain": [
              "<Figure size 1200x800 with 1 Axes>"
            ]
          },
          "metadata": {},
          "output_type": "display_data"
        }
      ],
      "source": [
        "boxplot_data = data[['churn', 'current_balance', 'current_month_credit', 'current_month_debit', 'current_month_balance']]\n",
        "\n",
        "plt.figure(figsize=(12, 8))\n",
        "sns.boxplot(x=\"variable\", y=\"value\", hue=\"churn\", data=pd.melt(boxplot_data, id_vars=\"churn\"))\n",
        "plt.xlabel('Variable', fontsize=14)\n",
        "plt.ylabel('Value', fontsize=14)\n",
        "plt.title('Boxplot for Churn vs. Numeric Variables', fontsize=16)\n",
        "plt.show()\n"
      ]
    },
    {
      "cell_type": "markdown",
      "id": "7042927c",
      "metadata": {
        "id": "7042927c"
      },
      "source": [
        "Plot di atas menunjukkan outlier yang sangat jelas dari semua kolom terhadap churn"
      ]
    },
    {
      "cell_type": "markdown",
      "id": "77eba4c7",
      "metadata": {
        "id": "77eba4c7"
      },
      "source": [
        "### Previous Month vs Churn"
      ]
    },
    {
      "cell_type": "code",
      "execution_count": null,
      "id": "77df1e30",
      "metadata": {
        "id": "77df1e30",
        "outputId": "34c6024f-c9cf-4470-e03a-0628fa51809e"
      },
      "outputs": [
        {
          "data": {
            "image/png": "[encoded data removed]",
            "text/plain": [
              "<Figure size 1200x800 with 1 Axes>"
            ]
          },
          "metadata": {},
          "output_type": "display_data"
        }
      ],
      "source": [
        "boxplot_data = data[['churn', 'previous_month_end_balance', 'previous_month_credit', 'previous_month_debit', 'previous_month_balance']]\n",
        "\n",
        "plt.figure(figsize=(12, 8))\n",
        "sns.boxplot(x=\"variable\", y=\"value\", hue=\"churn\", data=pd.melt(boxplot_data, id_vars=\"churn\"))\n",
        "plt.xlabel('Variable', fontsize=14)\n",
        "plt.ylabel('Value', fontsize=14)\n",
        "plt.title('Boxplot for Churn vs. Numeric Variables', fontsize=16)\n",
        "plt.show()"
      ]
    },
    {
      "cell_type": "markdown",
      "id": "e5c73312",
      "metadata": {
        "id": "e5c73312"
      },
      "source": [
        " Disini kita bisa lihat bahwa kebanyakan pelanggan melakukan transaksi dalam jumlah kecil."
      ]
    },
    {
      "cell_type": "markdown",
      "id": "9fa0b6ea",
      "metadata": {
        "id": "9fa0b6ea"
      },
      "source": [
        "### Previous quarters vs Churn"
      ]
    },
    {
      "cell_type": "code",
      "execution_count": null,
      "id": "e98c6fd8",
      "metadata": {
        "id": "e98c6fd8",
        "outputId": "e3e7ac29-1f9f-4f5e-f6e6-ae46a90f7a19"
      },
      "outputs": [
        {
          "data": {
            "image/png": "[encoded data removed]",
            "text/plain": [
              "<Figure size 1200x800 with 1 Axes>"
            ]
          },
          "metadata": {},
          "output_type": "display_data"
        }
      ],
      "source": [
        "boxplot_data = data[['churn', 'average_monthly_balance_prevQ', 'average_monthly_balance_prevQ2']]\n",
        "\n",
        "plt.figure(figsize=(12, 8))\n",
        "sns.boxplot(x=\"variable\", y=\"value\", hue=\"churn\", data=pd.melt(boxplot_data, id_vars=\"churn\"))\n",
        "plt.xlabel('Variable', fontsize=14)\n",
        "plt.ylabel('Value', fontsize=14)\n",
        "plt.title('Boxplot for Churn vs. Numeric Variables', fontsize=16)\n",
        "plt.show()"
      ]
    },
    {
      "cell_type": "markdown",
      "id": "7851d41f",
      "metadata": {
        "id": "7851d41f"
      },
      "source": [
        "average_monthly_balance_prevQ dan average_monthly_balance_prevQ2 terlihat sama. Disini yang harus diperhatikan adalah, apakah ada kesamaan antara pelanggan yang melakukan transaksi dalam jumlah besar."
      ]
    },
    {
      "cell_type": "markdown",
      "id": "fa778e6d",
      "metadata": {
        "id": "fa778e6d"
      },
      "source": [
        "### Feature Engineering\n"
      ]
    },
    {
      "cell_type": "code",
      "execution_count": null,
      "id": "75d86460",
      "metadata": {
        "id": "75d86460",
        "outputId": "d1de1553-3401-440e-fb68-27f24f71de83"
      },
      "outputs": [
        {
          "data": {
            "text/plain": [
              "(28382, 21)"
            ]
          },
          "execution_count": 18,
          "metadata": {},
          "output_type": "execute_result"
        }
      ],
      "source": [
        "data.shape"
      ]
    },
    {
      "cell_type": "code",
      "execution_count": null,
      "id": "27bb8d30",
      "metadata": {
        "id": "27bb8d30",
        "outputId": "d03e3c5e-620d-4788-d900-9786eb9ee78f"
      },
      "outputs": [
        {
          "data": {
            "text/plain": [
              "last_transaction\n",
              "NaT           3223\n",
              "2019-12-31    1672\n",
              "2019-12-28     831\n",
              "2019-12-17     654\n",
              "2019-12-27     632\n",
              "2019-12-25     596\n",
              "2019-12-26     576\n",
              "2019-12-24     561\n",
              "2019-12-20     486\n",
              "2019-12-18     478\n",
              "2019-12-22     476\n",
              "2019-12-11     472\n",
              "2019-12-10     468\n",
              "2019-12-19     459\n",
              "2019-12-14     447\n",
              "2019-12-03     427\n",
              "2019-12-12     408\n",
              "2019-12-13     398\n",
              "2019-12-07     398\n",
              "2019-12-05     346\n",
              "2019-12-08     341\n",
              "2019-12-21     322\n",
              "2019-12-04     318\n",
              "2019-12-06     316\n",
              "2019-11-26     238\n",
              "2019-11-28     223\n",
              "2019-11-30     218\n",
              "2019-11-29     201\n",
              "2019-11-21     193\n",
              "2019-12-01     191\n",
              "2019-11-23     184\n",
              "2019-11-12     179\n",
              "2019-11-13     173\n",
              "2019-11-22     167\n",
              "2019-11-19     164\n",
              "2019-11-20     164\n",
              "2019-11-08     160\n",
              "2019-10-31     159\n",
              "2019-11-14     153\n",
              "2019-10-29     151\n",
              "2019-11-15     144\n",
              "2019-11-05     143\n",
              "2019-11-01     136\n",
              "2019-10-30     135\n",
              "2019-11-06     133\n",
              "2019-11-09     124\n",
              "2019-11-16     117\n",
              "2019-10-16     116\n",
              "2019-09-27     115\n",
              "2019-11-07     115\n",
              "2019-11-17     114\n",
              "2019-10-15     108\n",
              "2019-10-01     108\n",
              "2019-10-23     107\n",
              "2019-11-02     107\n",
              "2019-10-19     106\n",
              "2019-11-03     102\n",
              "2019-10-22      99\n",
              "2019-10-12      93\n",
              "2019-10-09      91\n",
              "2019-10-17      91\n",
              "2019-10-24      91\n",
              "2019-10-18      90\n",
              "2019-10-03      85\n",
              "2019-10-05      83\n",
              "2019-10-02      83\n",
              "2019-09-14      82\n",
              "2019-10-20      81\n",
              "2019-09-19      78\n",
              "2019-09-17      78\n",
              "2019-09-28      78\n",
              "2019-10-11      77\n",
              "2019-10-08      77\n",
              "2019-10-04      77\n",
              "2019-09-18      76\n",
              "2019-12-29      74\n",
              "2019-10-06      73\n",
              "2019-09-25      71\n",
              "2019-09-20      69\n",
              "2019-09-06      66\n",
              "2019-12-30      66\n",
              "2019-09-08      63\n",
              "2019-09-24      63\n",
              "2019-10-25      63\n",
              "2019-09-10      62\n",
              "2019-09-22      61\n",
              "2019-08-13      59\n",
              "2019-09-07      59\n",
              "2019-08-24      58\n",
              "2019-07-31      58\n",
              "2019-08-27      57\n",
              "2019-09-03      56\n",
              "2019-09-21      55\n",
              "2019-09-04      55\n",
              "2019-07-30      54\n",
              "2019-08-15      54\n",
              "2019-09-05      53\n",
              "2019-08-21      53\n",
              "2019-08-07      52\n",
              "2019-07-17      51\n",
              "2019-08-29      51\n",
              "2019-07-02      51\n",
              "2019-08-14      50\n",
              "2019-12-23      49\n",
              "2019-08-08      47\n",
              "2019-08-28      47\n",
              "2019-08-31      46\n",
              "2019-07-24      45\n",
              "2019-08-20      45\n",
              "2019-07-11      45\n",
              "2019-08-22      45\n",
              "2019-08-01      44\n",
              "2019-09-01      44\n",
              "2019-12-15      43\n",
              "2019-09-11      43\n",
              "2019-08-04      42\n",
              "2019-07-12      41\n",
              "2019-12-16      41\n",
              "2019-07-16      40\n",
              "2019-05-18      40\n",
              "2019-08-09      39\n",
              "2019-08-02      39\n",
              "2019-06-20      38\n",
              "2019-08-30      37\n",
              "2019-07-06      36\n",
              "2019-01-29      36\n",
              "2019-08-06      36\n",
              "2019-08-16      36\n",
              "2019-07-09      36\n",
              "2019-07-05      36\n",
              "2019-08-10      36\n",
              "2019-07-13      36\n",
              "2019-06-29      35\n",
              "2019-06-14      35\n",
              "2019-07-10      34\n",
              "2019-07-23      33\n",
              "2019-06-28      33\n",
              "2019-07-25      33\n",
              "2019-12-09      33\n",
              "2019-06-23      32\n",
              "2019-07-03      32\n",
              "2019-08-17      32\n",
              "2019-06-09      32\n",
              "2019-06-18      32\n",
              "2019-06-21      32\n",
              "2019-06-26      32\n",
              "2019-06-25      31\n",
              "2019-07-20      31\n",
              "2019-07-18      31\n",
              "2019-06-11      31\n",
              "2019-09-13      31\n",
              "2019-07-26      30\n",
              "2019-02-05      30\n",
              "2019-01-24      30\n",
              "2019-08-18      29\n",
              "2019-05-30      29\n",
              "2019-06-05      29\n",
              "2019-05-24      29\n",
              "2019-06-13      29\n",
              "2019-05-08      28\n",
              "2019-06-19      28\n",
              "2019-07-21      27\n",
              "2019-05-01      27\n",
              "2019-01-26      27\n",
              "2019-06-22      27\n",
              "2019-05-31      27\n",
              "2019-11-25      27\n",
              "2019-06-04      26\n",
              "2019-05-16      26\n",
              "2019-05-21      26\n",
              "2019-07-04      26\n",
              "2019-06-12      25\n",
              "2019-04-03      25\n",
              "2019-06-07      25\n",
              "2019-01-16      25\n",
              "2019-03-14      25\n",
              "2019-06-06      24\n",
              "2019-04-16      24\n",
              "2019-01-23      24\n",
              "2019-03-06      24\n",
              "2019-11-24      24\n",
              "2019-04-23      24\n",
              "2019-02-26      24\n",
              "2019-01-15      24\n",
              "2019-05-17      24\n",
              "2019-05-14      24\n",
              "2019-05-28      23\n",
              "2019-02-14      23\n",
              "2019-01-25      23\n",
              "2019-04-27      23\n",
              "2019-06-08      23\n",
              "2019-04-02      23\n",
              "2019-02-16      23\n",
              "2019-06-02      22\n",
              "2019-06-15      22\n",
              "2019-05-09      22\n",
              "2019-03-05      22\n",
              "2019-03-12      22\n",
              "2019-03-29      22\n",
              "2019-02-19      22\n",
              "2019-04-17      21\n",
              "2019-04-24      21\n",
              "2019-05-07      21\n",
              "2019-04-30      21\n",
              "2019-03-23      21\n",
              "2019-04-19      21\n",
              "2019-02-06      21\n",
              "2019-05-11      21\n",
              "2019-06-27      21\n",
              "2019-03-22      21\n",
              "2019-05-23      21\n",
              "2019-01-22      20\n",
              "2019-04-13      20\n",
              "2019-03-27      20\n",
              "2019-05-05      20\n",
              "2019-02-03      20\n",
              "2019-06-30      20\n",
              "2019-01-30      20\n",
              "2019-03-07      20\n",
              "2019-03-30      20\n",
              "2019-01-09      20\n",
              "2019-05-15      20\n",
              "2019-03-09      20\n",
              "2019-04-11      20\n",
              "2019-02-10      20\n",
              "2019-05-22      19\n",
              "2019-06-01      19\n",
              "2019-03-28      19\n",
              "2019-04-28      19\n",
              "2019-05-26      19\n",
              "2019-04-21      19\n",
              "2019-05-12      19\n",
              "2019-03-13      19\n",
              "2019-11-10      19\n",
              "2019-03-19      19\n",
              "2019-03-08      19\n",
              "2019-04-25      19\n",
              "2019-02-28      18\n",
              "2019-05-10      18\n",
              "2019-03-16      18\n",
              "2019-02-22      18\n",
              "2019-02-15      18\n",
              "2019-03-26      18\n",
              "2019-04-12      18\n",
              "2019-10-07      18\n",
              "2019-03-20      18\n",
              "2019-04-26      18\n",
              "2019-02-08      17\n",
              "2019-01-03      17\n",
              "2019-05-02      17\n",
              "2019-02-12      17\n",
              "2019-04-07      17\n",
              "2019-02-27      17\n",
              "2019-04-09      17\n",
              "2019-01-19      17\n",
              "2019-11-27      17\n",
              "2019-05-25      17\n",
              "2019-04-20      16\n",
              "2019-01-08      16\n",
              "2019-02-09      16\n",
              "2019-05-04      16\n",
              "2019-07-19      16\n",
              "2019-04-10      16\n",
              "2019-04-06      16\n",
              "2019-04-18      15\n",
              "2019-05-29      15\n",
              "2019-03-21      15\n",
              "2019-05-03      15\n",
              "2019-02-21      15\n",
              "2019-12-02      15\n",
              "2019-01-18      15\n",
              "2019-10-27      14\n",
              "2019-02-07      14\n",
              "2019-03-15      14\n",
              "2019-03-10      14\n",
              "2019-11-18      14\n",
              "2019-04-05      13\n",
              "2019-11-04      13\n",
              "2019-07-07      13\n",
              "2019-03-03      13\n",
              "2019-01-10      13\n",
              "2019-09-26      13\n",
              "2019-07-27      13\n",
              "2019-02-23      13\n",
              "2019-02-20      13\n",
              "2019-03-01      13\n",
              "2019-02-01      12\n",
              "2019-04-04      12\n",
              "2019-01-04      12\n",
              "2019-09-12      12\n",
              "2019-01-20      12\n",
              "2019-03-31      12\n",
              "2019-01-02      12\n",
              "2019-02-02      12\n",
              "2019-01-06      12\n",
              "2019-04-14      11\n",
              "2019-03-24      11\n",
              "2019-01-11      11\n",
              "2019-10-13      11\n",
              "2019-11-11      11\n",
              "2019-03-02      10\n",
              "2019-03-17      10\n",
              "2019-09-29      10\n",
              "2019-10-14      10\n",
              "2019-09-23      10\n",
              "2019-01-13       9\n",
              "2019-10-21       9\n",
              "2019-02-17       9\n",
              "2019-10-26       9\n",
              "2019-01-12       8\n",
              "2019-09-15       8\n",
              "2019-10-28       8\n",
              "2019-01-27       7\n",
              "2019-09-02       7\n",
              "2019-01-01       7\n",
              "2019-02-24       7\n",
              "2019-08-12       6\n",
              "2019-01-17       6\n",
              "2019-08-23       5\n",
              "2019-06-16       4\n",
              "2019-07-28       4\n",
              "2019-01-05       4\n",
              "2019-08-26       4\n",
              "2019-01-21       4\n",
              "2019-10-10       4\n",
              "2019-09-09       4\n",
              "2019-07-22       4\n",
              "2019-05-19       4\n",
              "2019-03-11       3\n",
              "2019-04-29       3\n",
              "2019-05-06       3\n",
              "2019-06-17       3\n",
              "2019-02-04       3\n",
              "2019-04-15       3\n",
              "2019-01-28       3\n",
              "2018-12-31       3\n",
              "2019-06-24       3\n",
              "2019-07-08       2\n",
              "2019-02-11       2\n",
              "2019-08-25       2\n",
              "2019-07-15       2\n",
              "2019-08-05       2\n",
              "2019-04-01       2\n",
              "2019-08-03       2\n",
              "2019-06-03       2\n",
              "2019-03-04       2\n",
              "2019-09-16       2\n",
              "2019-04-08       2\n",
              "2019-01-14       1\n",
              "2019-07-14       1\n",
              "2019-02-13       1\n",
              "2019-07-29       1\n",
              "2019-05-27       1\n",
              "2019-08-19       1\n",
              "2019-05-13       1\n",
              "2019-03-18       1\n",
              "2019-02-25       1\n",
              "2019-05-20       1\n",
              "2019-07-01       1\n",
              "2019-09-30       1\n",
              "2019-01-31       1\n",
              "Name: count, dtype: int64"
            ]
          },
          "execution_count": 19,
          "metadata": {},
          "output_type": "execute_result"
        }
      ],
      "source": [
        "data['last_transaction'].value_counts()"
      ]
    },
    {
      "cell_type": "code",
      "execution_count": null,
      "id": "6171946d",
      "metadata": {
        "id": "6171946d"
      },
      "outputs": [],
      "source": [
        "data = data[data['last_transaction'] != 'NaT'].reset_index(drop=True)"
      ]
    },
    {
      "cell_type": "code",
      "execution_count": null,
      "id": "bac6bbd7",
      "metadata": {
        "id": "bac6bbd7"
      },
      "outputs": [],
      "source": [
        "data['last_transaction'] = pd.to_datetime(data['last_transaction'])\n",
        "\n",
        "date = pd.DatetimeIndex(data['last_transaction'])\n",
        "\n",
        "data['doy_ls_tran'] = date.dayofyear\n",
        "data['moy_ls_tran'] = date.month\n",
        "data['dow_ls_tran'] = date.dayofweek"
      ]
    },
    {
      "cell_type": "code",
      "execution_count": null,
      "id": "c355403d",
      "metadata": {
        "id": "c355403d",
        "outputId": "91390e54-b20d-47df-f428-ad06f865e888"
      },
      "outputs": [
        {
          "data": {
            "text/plain": [
              "customer_id                         int64\n",
              "vintage                             int64\n",
              "age                                 int64\n",
              "gender                             object\n",
              "dependents                        float64\n",
              "occupation                         object\n",
              "city                              float64\n",
              "customer_nw_category                int64\n",
              "branch_code                         int64\n",
              "current_balance                   float64\n",
              "previous_month_end_balance        float64\n",
              "average_monthly_balance_prevQ     float64\n",
              "average_monthly_balance_prevQ2    float64\n",
              "current_month_credit              float64\n",
              "previous_month_credit             float64\n",
              "current_month_debit               float64\n",
              "previous_month_debit              float64\n",
              "current_month_balance             float64\n",
              "previous_month_balance            float64\n",
              "churn                               int64\n",
              "doy_ls_tran                         int32\n",
              "moy_ls_tran                         int32\n",
              "dow_ls_tran                         int32\n",
              "dtype: object"
            ]
          },
          "execution_count": 22,
          "metadata": {},
          "output_type": "execute_result"
        }
      ],
      "source": [
        "data = data.drop(columns = ['last_transaction'])\n",
        "data.dtypes"
      ]
    },
    {
      "cell_type": "markdown",
      "id": "4025e316",
      "metadata": {
        "id": "4025e316"
      },
      "source": [
        "### Missing Value Handling"
      ]
    },
    {
      "cell_type": "code",
      "execution_count": null,
      "id": "ec9e2e2f",
      "metadata": {
        "id": "ec9e2e2f",
        "outputId": "53d161a3-7faa-48ce-c3f6-df2653b21f40"
      },
      "outputs": [
        {
          "data": {
            "text/plain": [
              "customer_id                          0\n",
              "vintage                              0\n",
              "age                                  0\n",
              "gender                             461\n",
              "dependents                        2167\n",
              "occupation                          68\n",
              "city                               685\n",
              "customer_nw_category                 0\n",
              "branch_code                          0\n",
              "current_balance                      0\n",
              "previous_month_end_balance           0\n",
              "average_monthly_balance_prevQ        0\n",
              "average_monthly_balance_prevQ2       0\n",
              "current_month_credit                 0\n",
              "previous_month_credit                0\n",
              "current_month_debit                  0\n",
              "previous_month_debit                 0\n",
              "current_month_balance                0\n",
              "previous_month_balance               0\n",
              "churn                                0\n",
              "doy_ls_tran                          0\n",
              "moy_ls_tran                          0\n",
              "dow_ls_tran                          0\n",
              "dtype: int64"
            ]
          },
          "execution_count": 23,
          "metadata": {},
          "output_type": "execute_result"
        }
      ],
      "source": [
        "data.isna().sum()"
      ]
    },
    {
      "cell_type": "markdown",
      "id": "e4b14a2c",
      "metadata": {
        "id": "e4b14a2c"
      },
      "source": [
        "Ada nilai yang hilang di kolom gender, dependents, occupation, dan city"
      ]
    },
    {
      "cell_type": "code",
      "execution_count": null,
      "id": "1812009a",
      "metadata": {
        "id": "1812009a"
      },
      "outputs": [],
      "source": [
        "data.dropna(inplace=True)"
      ]
    },
    {
      "cell_type": "code",
      "execution_count": null,
      "id": "586bbf88",
      "metadata": {
        "id": "586bbf88",
        "outputId": "621cbdfc-31c6-40f6-9ed1-afc75e83b1db"
      },
      "outputs": [
        {
          "data": {
            "text/plain": [
              "customer_id                       0\n",
              "vintage                           0\n",
              "age                               0\n",
              "gender                            0\n",
              "dependents                        0\n",
              "occupation                        0\n",
              "city                              0\n",
              "customer_nw_category              0\n",
              "branch_code                       0\n",
              "current_balance                   0\n",
              "previous_month_end_balance        0\n",
              "average_monthly_balance_prevQ     0\n",
              "average_monthly_balance_prevQ2    0\n",
              "current_month_credit              0\n",
              "previous_month_credit             0\n",
              "current_month_debit               0\n",
              "previous_month_debit              0\n",
              "current_month_balance             0\n",
              "previous_month_balance            0\n",
              "churn                             0\n",
              "doy_ls_tran                       0\n",
              "moy_ls_tran                       0\n",
              "dow_ls_tran                       0\n",
              "dtype: int64"
            ]
          },
          "execution_count": 25,
          "metadata": {},
          "output_type": "execute_result"
        }
      ],
      "source": [
        "data.isna().sum()"
      ]
    },
    {
      "cell_type": "markdown",
      "id": "bc846657",
      "metadata": {
        "id": "bc846657"
      },
      "source": [
        "### Outlier Handling"
      ]
    },
    {
      "cell_type": "markdown",
      "id": "7d953492",
      "metadata": {
        "id": "7d953492"
      },
      "source": [
        "Disini saya menghapus outlier berdasarkan batasan faktor standar deviasi. Dalam hal ini, saya memuat faktor = 3 untuk menentukan batasan outliernya."
      ]
    },
    {
      "cell_type": "markdown",
      "id": "3f9461be",
      "metadata": {
        "id": "3f9461be"
      },
      "source": [
        "### Current month vs Churn"
      ]
    },
    {
      "cell_type": "code",
      "execution_count": null,
      "id": "8ae8ee41",
      "metadata": {
        "id": "8ae8ee41",
        "outputId": "fab4db8e-1c9f-408f-8397-58fb30de5251"
      },
      "outputs": [
        {
          "data": {
            "image/png": "[encoded data removed]",
            "text/plain": [
              "<Figure size 1200x800 with 1 Axes>"
            ]
          },
          "metadata": {},
          "output_type": "display_data"
        }
      ],
      "source": [
        "factor = 3\n",
        "numeric_variables = ['current_balance', 'current_month_credit', 'current_month_debit', 'current_month_balance']\n",
        "\n",
        "cleaned_data = data.copy()\n",
        "\n",
        "for variable in numeric_variables:\n",
        "    cleaned_data = cleaned_data[abs(cleaned_data[variable] - cleaned_data[variable].mean()) < factor * cleaned_data[variable].std()]\n",
        "\n",
        "boxplot_data_cleaned = cleaned_data[['churn'] + numeric_variables]\n",
        "\n",
        "plt.figure(figsize=(12, 8))\n",
        "sns.boxplot(x=\"variable\", y=\"value\", hue=\"churn\", data=pd.melt(boxplot_data_cleaned, id_vars=\"churn\"))\n",
        "plt.xlabel('Variable', fontsize=14)\n",
        "plt.ylabel('Value', fontsize=14)\n",
        "plt.title('Boxplot for Churn vs. Numeric Variables (Outliers Removed)', fontsize=16)\n",
        "plt.show()"
      ]
    },
    {
      "cell_type": "markdown",
      "id": "562270a5",
      "metadata": {
        "id": "562270a5"
      },
      "source": [
        "### Previous month vs Churn"
      ]
    },
    {
      "cell_type": "code",
      "execution_count": null,
      "id": "0897ef11",
      "metadata": {
        "id": "0897ef11",
        "outputId": "17bec456-662f-4023-b066-f4744397b5d1"
      },
      "outputs": [
        {
          "data": {
            "image/png": "[encoded data removed]",
            "text/plain": [
              "<Figure size 1200x800 with 1 Axes>"
            ]
          },
          "metadata": {},
          "output_type": "display_data"
        }
      ],
      "source": [
        "factor = 3\n",
        "numeric_variables = ['previous_month_end_balance', 'previous_month_credit', 'previous_month_debit', 'previous_month_balance']\n",
        "\n",
        "cleaned_data = data.copy()\n",
        "\n",
        "for variable in numeric_variables:\n",
        "    cleaned_data = cleaned_data[abs(cleaned_data[variable] - cleaned_data[variable].mean()) < factor * cleaned_data[variable].std()]\n",
        "\n",
        "boxplot_data_cleaned = cleaned_data[['churn'] + numeric_variables]\n",
        "\n",
        "plt.figure(figsize=(12, 8))\n",
        "sns.boxplot(x=\"variable\", y=\"value\", hue=\"churn\", data=pd.melt(boxplot_data_cleaned, id_vars=\"churn\"))\n",
        "plt.xlabel('Variable', fontsize=14)\n",
        "plt.ylabel('Value', fontsize=14)\n",
        "plt.title('Boxplot for Churn vs. Numeric Variables (Outliers Removed)', fontsize=16)\n",
        "plt.show()"
      ]
    },
    {
      "cell_type": "markdown",
      "id": "4670ecea",
      "metadata": {
        "id": "4670ecea"
      },
      "source": [
        "### Previous quarters vs Churn"
      ]
    },
    {
      "cell_type": "code",
      "execution_count": null,
      "id": "f05a368c",
      "metadata": {
        "id": "f05a368c",
        "outputId": "1ed3fb02-7530-43ab-bfda-2a8b268e2726"
      },
      "outputs": [
        {
          "data": {
            "image/png": "[encoded data removed]",
            "text/plain": [
              "<Figure size 1200x800 with 1 Axes>"
            ]
          },
          "metadata": {},
          "output_type": "display_data"
        }
      ],
      "source": [
        "factor = 3\n",
        "numeric_variables = ['average_monthly_balance_prevQ', 'average_monthly_balance_prevQ2']\n",
        "\n",
        "cleaned_data = data.copy()\n",
        "\n",
        "for variable in numeric_variables:\n",
        "    cleaned_data = cleaned_data[abs(cleaned_data[variable] - cleaned_data[variable].mean()) < factor * cleaned_data[variable].std()]\n",
        "\n",
        "boxplot_data_cleaned = cleaned_data[['churn'] + numeric_variables]\n",
        "\n",
        "plt.figure(figsize=(12, 8))\n",
        "sns.boxplot(x=\"variable\", y=\"value\", hue=\"churn\", data=pd.melt(boxplot_data_cleaned, id_vars=\"churn\"))\n",
        "plt.xlabel('Variable', fontsize=14)\n",
        "plt.ylabel('Value', fontsize=14)\n",
        "plt.title('Boxplot for Churn vs. Numeric Variables (Outliers Removed)', fontsize=16)\n",
        "plt.show()"
      ]
    },
    {
      "cell_type": "markdown",
      "id": "a76db8bb",
      "metadata": {
        "id": "a76db8bb"
      },
      "source": [
        "Outlier pada dua kuartal sebelumnya sangat mirip namun jumlahnya sangat besar."
      ]
    },
    {
      "cell_type": "markdown",
      "id": "d34fe039",
      "metadata": {
        "id": "d34fe039"
      },
      "source": [
        "### Encoding"
      ]
    },
    {
      "cell_type": "markdown",
      "id": "3b3d2229",
      "metadata": {
        "id": "3b3d2229"
      },
      "source": [
        "Melakukan one-hot encoding pada data kategorikal pada kolom gender, occupation"
      ]
    },
    {
      "cell_type": "code",
      "execution_count": null,
      "id": "ea3cb895",
      "metadata": {
        "id": "ea3cb895",
        "outputId": "2836b01d-1a7a-4f2f-86c3-fbcf3d063fc2"
      },
      "outputs": [
        {
          "data": {
            "text/html": [
              "<div>\n",
              "<style scoped>\n",
              "    .dataframe tbody tr th:only-of-type {\n",
              "        vertical-align: middle;\n",
              "    }\n",
              "\n",
              "    .dataframe tbody tr th {\n",
              "        vertical-align: top;\n",
              "    }\n",
              "\n",
              "    .dataframe thead th {\n",
              "        text-align: right;\n",
              "    }\n",
              "</style>\n",
              "<table border=\"1\" class=\"dataframe\">\n",
              "  <thead>\n",
              "    <tr style=\"text-align: right;\">\n",
              "      <th></th>\n",
              "      <th>vintage</th>\n",
              "      <th>age</th>\n",
              "      <th>dependents</th>\n",
              "      <th>city</th>\n",
              "      <th>customer_nw_category</th>\n",
              "      <th>branch_code</th>\n",
              "      <th>current_balance</th>\n",
              "      <th>previous_month_end_balance</th>\n",
              "      <th>average_monthly_balance_prevQ</th>\n",
              "      <th>average_monthly_balance_prevQ2</th>\n",
              "      <th>current_month_credit</th>\n",
              "      <th>previous_month_credit</th>\n",
              "      <th>current_month_debit</th>\n",
              "      <th>previous_month_debit</th>\n",
              "      <th>current_month_balance</th>\n",
              "      <th>previous_month_balance</th>\n",
              "      <th>churn</th>\n",
              "      <th>doy_ls_tran</th>\n",
              "      <th>moy_ls_tran</th>\n",
              "      <th>dow_ls_tran</th>\n",
              "      <th>gender_Male</th>\n",
              "      <th>occupation_retired</th>\n",
              "      <th>occupation_salaried</th>\n",
              "      <th>occupation_self_employed</th>\n",
              "      <th>occupation_student</th>\n",
              "    </tr>\n",
              "  </thead>\n",
              "  <tbody>\n",
              "    <tr>\n",
              "      <th>0</th>\n",
              "      <td>2101</td>\n",
              "      <td>66</td>\n",
              "      <td>0.0</td>\n",
              "      <td>187.0</td>\n",
              "      <td>2</td>\n",
              "      <td>755</td>\n",
              "      <td>1458.71</td>\n",
              "      <td>1458.71</td>\n",
              "      <td>1458.71</td>\n",
              "      <td>1449.07</td>\n",
              "      <td>0.20</td>\n",
              "      <td>0.20</td>\n",
              "      <td>0.20</td>\n",
              "      <td>0.20</td>\n",
              "      <td>1458.71</td>\n",
              "      <td>1458.71</td>\n",
              "      <td>0</td>\n",
              "      <td>141</td>\n",
              "      <td>5</td>\n",
              "      <td>1</td>\n",
              "      <td>1</td>\n",
              "      <td>0</td>\n",
              "      <td>0</td>\n",
              "      <td>1</td>\n",
              "      <td>0</td>\n",
              "    </tr>\n",
              "    <tr>\n",
              "      <th>3</th>\n",
              "      <td>1579</td>\n",
              "      <td>42</td>\n",
              "      <td>2.0</td>\n",
              "      <td>1494.0</td>\n",
              "      <td>3</td>\n",
              "      <td>388</td>\n",
              "      <td>927.72</td>\n",
              "      <td>1401.72</td>\n",
              "      <td>1643.31</td>\n",
              "      <td>1871.12</td>\n",
              "      <td>0.33</td>\n",
              "      <td>714.61</td>\n",
              "      <td>588.62</td>\n",
              "      <td>1538.06</td>\n",
              "      <td>1157.15</td>\n",
              "      <td>1677.16</td>\n",
              "      <td>1</td>\n",
              "      <td>307</td>\n",
              "      <td>11</td>\n",
              "      <td>6</td>\n",
              "      <td>1</td>\n",
              "      <td>0</td>\n",
              "      <td>0</td>\n",
              "      <td>1</td>\n",
              "      <td>0</td>\n",
              "    </tr>\n",
              "    <tr>\n",
              "      <th>4</th>\n",
              "      <td>1923</td>\n",
              "      <td>42</td>\n",
              "      <td>0.0</td>\n",
              "      <td>1096.0</td>\n",
              "      <td>2</td>\n",
              "      <td>1666</td>\n",
              "      <td>15202.20</td>\n",
              "      <td>16059.34</td>\n",
              "      <td>15211.29</td>\n",
              "      <td>13798.82</td>\n",
              "      <td>0.36</td>\n",
              "      <td>0.36</td>\n",
              "      <td>857.50</td>\n",
              "      <td>286.07</td>\n",
              "      <td>15719.44</td>\n",
              "      <td>15349.75</td>\n",
              "      <td>0</td>\n",
              "      <td>305</td>\n",
              "      <td>11</td>\n",
              "      <td>4</td>\n",
              "      <td>0</td>\n",
              "      <td>0</td>\n",
              "      <td>0</td>\n",
              "      <td>1</td>\n",
              "      <td>0</td>\n",
              "    </tr>\n",
              "    <tr>\n",
              "      <th>5</th>\n",
              "      <td>2048</td>\n",
              "      <td>72</td>\n",
              "      <td>0.0</td>\n",
              "      <td>1020.0</td>\n",
              "      <td>1</td>\n",
              "      <td>1</td>\n",
              "      <td>7006.93</td>\n",
              "      <td>7714.19</td>\n",
              "      <td>7859.74</td>\n",
              "      <td>11232.37</td>\n",
              "      <td>0.64</td>\n",
              "      <td>0.64</td>\n",
              "      <td>1299.64</td>\n",
              "      <td>439.26</td>\n",
              "      <td>7076.06</td>\n",
              "      <td>7755.98</td>\n",
              "      <td>0</td>\n",
              "      <td>267</td>\n",
              "      <td>9</td>\n",
              "      <td>1</td>\n",
              "      <td>1</td>\n",
              "      <td>1</td>\n",
              "      <td>0</td>\n",
              "      <td>0</td>\n",
              "      <td>0</td>\n",
              "    </tr>\n",
              "    <tr>\n",
              "      <th>6</th>\n",
              "      <td>2009</td>\n",
              "      <td>46</td>\n",
              "      <td>0.0</td>\n",
              "      <td>623.0</td>\n",
              "      <td>2</td>\n",
              "      <td>317</td>\n",
              "      <td>10096.58</td>\n",
              "      <td>8519.53</td>\n",
              "      <td>6511.82</td>\n",
              "      <td>16314.17</td>\n",
              "      <td>0.27</td>\n",
              "      <td>0.27</td>\n",
              "      <td>443.13</td>\n",
              "      <td>5688.44</td>\n",
              "      <td>8563.84</td>\n",
              "      <td>5317.04</td>\n",
              "      <td>0</td>\n",
              "      <td>193</td>\n",
              "      <td>7</td>\n",
              "      <td>4</td>\n",
              "      <td>1</td>\n",
              "      <td>0</td>\n",
              "      <td>0</td>\n",
              "      <td>1</td>\n",
              "      <td>0</td>\n",
              "    </tr>\n",
              "  </tbody>\n",
              "</table>\n",
              "</div>"
            ],
            "text/plain": [
              "   vintage  age  dependents    city  customer_nw_category  branch_code  \\\n",
              "0     2101   66         0.0   187.0                     2          755   \n",
              "3     1579   42         2.0  1494.0                     3          388   \n",
              "4     1923   42         0.0  1096.0                     2         1666   \n",
              "5     2048   72         0.0  1020.0                     1            1   \n",
              "6     2009   46         0.0   623.0                     2          317   \n",
              "\n",
              "   current_balance  previous_month_end_balance  average_monthly_balance_prevQ  \\\n",
              "0          1458.71                     1458.71                        1458.71   \n",
              "3           927.72                     1401.72                        1643.31   \n",
              "4         15202.20                    16059.34                       15211.29   \n",
              "5          7006.93                     7714.19                        7859.74   \n",
              "6         10096.58                     8519.53                        6511.82   \n",
              "\n",
              "   average_monthly_balance_prevQ2  current_month_credit  \\\n",
              "0                         1449.07                  0.20   \n",
              "3                         1871.12                  0.33   \n",
              "4                        13798.82                  0.36   \n",
              "5                        11232.37                  0.64   \n",
              "6                        16314.17                  0.27   \n",
              "\n",
              "   previous_month_credit  current_month_debit  previous_month_debit  \\\n",
              "0                   0.20                 0.20                  0.20   \n",
              "3                 714.61               588.62               1538.06   \n",
              "4                   0.36               857.50                286.07   \n",
              "5                   0.64              1299.64                439.26   \n",
              "6                   0.27               443.13               5688.44   \n",
              "\n",
              "   current_month_balance  previous_month_balance  churn  doy_ls_tran  \\\n",
              "0                1458.71                 1458.71      0          141   \n",
              "3                1157.15                 1677.16      1          307   \n",
              "4               15719.44                15349.75      0          305   \n",
              "5                7076.06                 7755.98      0          267   \n",
              "6                8563.84                 5317.04      0          193   \n",
              "\n",
              "   moy_ls_tran  dow_ls_tran  gender_Male  occupation_retired  \\\n",
              "0            5            1            1                   0   \n",
              "3           11            6            1                   0   \n",
              "4           11            4            0                   0   \n",
              "5            9            1            1                   1   \n",
              "6            7            4            1                   0   \n",
              "\n",
              "   occupation_salaried  occupation_self_employed  occupation_student  \n",
              "0                    0                         1                   0  \n",
              "3                    0                         1                   0  \n",
              "4                    0                         1                   0  \n",
              "5                    0                         0                   0  \n",
              "6                    0                         1                   0  "
            ]
          },
          "execution_count": 30,
          "metadata": {},
          "output_type": "execute_result"
        }
      ],
      "source": [
        "data = pd.get_dummies(data, drop_first=True, dtype=int)\n",
        "data.head()"
      ]
    },
    {
      "cell_type": "code",
      "execution_count": null,
      "id": "b0a985ab",
      "metadata": {
        "id": "b0a985ab",
        "outputId": "981542aa-cd3a-465a-e5e3-79148a2d1ce3"
      },
      "outputs": [
        {
          "data": {
            "text/html": [
              "<div>\n",
              "<style scoped>\n",
              "    .dataframe tbody tr th:only-of-type {\n",
              "        vertical-align: middle;\n",
              "    }\n",
              "\n",
              "    .dataframe tbody tr th {\n",
              "        vertical-align: top;\n",
              "    }\n",
              "\n",
              "    .dataframe thead th {\n",
              "        text-align: right;\n",
              "    }\n",
              "</style>\n",
              "<table border=\"1\" class=\"dataframe\">\n",
              "  <thead>\n",
              "    <tr style=\"text-align: right;\">\n",
              "      <th></th>\n",
              "      <th>vintage</th>\n",
              "      <th>age</th>\n",
              "      <th>dependents</th>\n",
              "      <th>city</th>\n",
              "      <th>customer_nw_category</th>\n",
              "      <th>branch_code</th>\n",
              "      <th>current_balance</th>\n",
              "      <th>previous_month_end_balance</th>\n",
              "      <th>average_monthly_balance_prevQ</th>\n",
              "      <th>average_monthly_balance_prevQ2</th>\n",
              "      <th>current_month_credit</th>\n",
              "      <th>previous_month_credit</th>\n",
              "      <th>current_month_debit</th>\n",
              "      <th>previous_month_debit</th>\n",
              "      <th>current_month_balance</th>\n",
              "      <th>previous_month_balance</th>\n",
              "      <th>churn</th>\n",
              "      <th>doy_ls_tran</th>\n",
              "      <th>moy_ls_tran</th>\n",
              "      <th>dow_ls_tran</th>\n",
              "      <th>gender</th>\n",
              "      <th>occupation_retired</th>\n",
              "      <th>occupation_salaried</th>\n",
              "      <th>occupation_self_employed</th>\n",
              "      <th>occupation_student</th>\n",
              "    </tr>\n",
              "  </thead>\n",
              "  <tbody>\n",
              "    <tr>\n",
              "      <th>0</th>\n",
              "      <td>2101</td>\n",
              "      <td>66</td>\n",
              "      <td>0.0</td>\n",
              "      <td>187.0</td>\n",
              "      <td>2</td>\n",
              "      <td>755</td>\n",
              "      <td>1458.71</td>\n",
              "      <td>1458.71</td>\n",
              "      <td>1458.71</td>\n",
              "      <td>1449.07</td>\n",
              "      <td>0.20</td>\n",
              "      <td>0.20</td>\n",
              "      <td>0.20</td>\n",
              "      <td>0.20</td>\n",
              "      <td>1458.71</td>\n",
              "      <td>1458.71</td>\n",
              "      <td>0</td>\n",
              "      <td>141</td>\n",
              "      <td>5</td>\n",
              "      <td>1</td>\n",
              "      <td>1</td>\n",
              "      <td>0</td>\n",
              "      <td>0</td>\n",
              "      <td>1</td>\n",
              "      <td>0</td>\n",
              "    </tr>\n",
              "    <tr>\n",
              "      <th>3</th>\n",
              "      <td>1579</td>\n",
              "      <td>42</td>\n",
              "      <td>2.0</td>\n",
              "      <td>1494.0</td>\n",
              "      <td>3</td>\n",
              "      <td>388</td>\n",
              "      <td>927.72</td>\n",
              "      <td>1401.72</td>\n",
              "      <td>1643.31</td>\n",
              "      <td>1871.12</td>\n",
              "      <td>0.33</td>\n",
              "      <td>714.61</td>\n",
              "      <td>588.62</td>\n",
              "      <td>1538.06</td>\n",
              "      <td>1157.15</td>\n",
              "      <td>1677.16</td>\n",
              "      <td>1</td>\n",
              "      <td>307</td>\n",
              "      <td>11</td>\n",
              "      <td>6</td>\n",
              "      <td>1</td>\n",
              "      <td>0</td>\n",
              "      <td>0</td>\n",
              "      <td>1</td>\n",
              "      <td>0</td>\n",
              "    </tr>\n",
              "    <tr>\n",
              "      <th>4</th>\n",
              "      <td>1923</td>\n",
              "      <td>42</td>\n",
              "      <td>0.0</td>\n",
              "      <td>1096.0</td>\n",
              "      <td>2</td>\n",
              "      <td>1666</td>\n",
              "      <td>15202.20</td>\n",
              "      <td>16059.34</td>\n",
              "      <td>15211.29</td>\n",
              "      <td>13798.82</td>\n",
              "      <td>0.36</td>\n",
              "      <td>0.36</td>\n",
              "      <td>857.50</td>\n",
              "      <td>286.07</td>\n",
              "      <td>15719.44</td>\n",
              "      <td>15349.75</td>\n",
              "      <td>0</td>\n",
              "      <td>305</td>\n",
              "      <td>11</td>\n",
              "      <td>4</td>\n",
              "      <td>0</td>\n",
              "      <td>0</td>\n",
              "      <td>0</td>\n",
              "      <td>1</td>\n",
              "      <td>0</td>\n",
              "    </tr>\n",
              "    <tr>\n",
              "      <th>5</th>\n",
              "      <td>2048</td>\n",
              "      <td>72</td>\n",
              "      <td>0.0</td>\n",
              "      <td>1020.0</td>\n",
              "      <td>1</td>\n",
              "      <td>1</td>\n",
              "      <td>7006.93</td>\n",
              "      <td>7714.19</td>\n",
              "      <td>7859.74</td>\n",
              "      <td>11232.37</td>\n",
              "      <td>0.64</td>\n",
              "      <td>0.64</td>\n",
              "      <td>1299.64</td>\n",
              "      <td>439.26</td>\n",
              "      <td>7076.06</td>\n",
              "      <td>7755.98</td>\n",
              "      <td>0</td>\n",
              "      <td>267</td>\n",
              "      <td>9</td>\n",
              "      <td>1</td>\n",
              "      <td>1</td>\n",
              "      <td>1</td>\n",
              "      <td>0</td>\n",
              "      <td>0</td>\n",
              "      <td>0</td>\n",
              "    </tr>\n",
              "    <tr>\n",
              "      <th>6</th>\n",
              "      <td>2009</td>\n",
              "      <td>46</td>\n",
              "      <td>0.0</td>\n",
              "      <td>623.0</td>\n",
              "      <td>2</td>\n",
              "      <td>317</td>\n",
              "      <td>10096.58</td>\n",
              "      <td>8519.53</td>\n",
              "      <td>6511.82</td>\n",
              "      <td>16314.17</td>\n",
              "      <td>0.27</td>\n",
              "      <td>0.27</td>\n",
              "      <td>443.13</td>\n",
              "      <td>5688.44</td>\n",
              "      <td>8563.84</td>\n",
              "      <td>5317.04</td>\n",
              "      <td>0</td>\n",
              "      <td>193</td>\n",
              "      <td>7</td>\n",
              "      <td>4</td>\n",
              "      <td>1</td>\n",
              "      <td>0</td>\n",
              "      <td>0</td>\n",
              "      <td>1</td>\n",
              "      <td>0</td>\n",
              "    </tr>\n",
              "  </tbody>\n",
              "</table>\n",
              "</div>"
            ],
            "text/plain": [
              "   vintage  age  dependents    city  customer_nw_category  branch_code  \\\n",
              "0     2101   66         0.0   187.0                     2          755   \n",
              "3     1579   42         2.0  1494.0                     3          388   \n",
              "4     1923   42         0.0  1096.0                     2         1666   \n",
              "5     2048   72         0.0  1020.0                     1            1   \n",
              "6     2009   46         0.0   623.0                     2          317   \n",
              "\n",
              "   current_balance  previous_month_end_balance  average_monthly_balance_prevQ  \\\n",
              "0          1458.71                     1458.71                        1458.71   \n",
              "3           927.72                     1401.72                        1643.31   \n",
              "4         15202.20                    16059.34                       15211.29   \n",
              "5          7006.93                     7714.19                        7859.74   \n",
              "6         10096.58                     8519.53                        6511.82   \n",
              "\n",
              "   average_monthly_balance_prevQ2  current_month_credit  \\\n",
              "0                         1449.07                  0.20   \n",
              "3                         1871.12                  0.33   \n",
              "4                        13798.82                  0.36   \n",
              "5                        11232.37                  0.64   \n",
              "6                        16314.17                  0.27   \n",
              "\n",
              "   previous_month_credit  current_month_debit  previous_month_debit  \\\n",
              "0                   0.20                 0.20                  0.20   \n",
              "3                 714.61               588.62               1538.06   \n",
              "4                   0.36               857.50                286.07   \n",
              "5                   0.64              1299.64                439.26   \n",
              "6                   0.27               443.13               5688.44   \n",
              "\n",
              "   current_month_balance  previous_month_balance  churn  doy_ls_tran  \\\n",
              "0                1458.71                 1458.71      0          141   \n",
              "3                1157.15                 1677.16      1          307   \n",
              "4               15719.44                15349.75      0          305   \n",
              "5                7076.06                 7755.98      0          267   \n",
              "6                8563.84                 5317.04      0          193   \n",
              "\n",
              "   moy_ls_tran  dow_ls_tran  gender  occupation_retired  occupation_salaried  \\\n",
              "0            5            1       1                   0                    0   \n",
              "3           11            6       1                   0                    0   \n",
              "4           11            4       0                   0                    0   \n",
              "5            9            1       1                   1                    0   \n",
              "6            7            4       1                   0                    0   \n",
              "\n",
              "   occupation_self_employed  occupation_student  \n",
              "0                         1                   0  \n",
              "3                         1                   0  \n",
              "4                         1                   0  \n",
              "5                         0                   0  \n",
              "6                         1                   0  "
            ]
          },
          "execution_count": 69,
          "metadata": {},
          "output_type": "execute_result"
        }
      ],
      "source": [
        "data.rename(columns={'gender_Male': 'gender'}, inplace=True)\n",
        "data.head()"
      ]
    },
    {
      "cell_type": "code",
      "execution_count": null,
      "id": "34bfda36",
      "metadata": {
        "id": "34bfda36"
      },
      "outputs": [],
      "source": [
        "data = data.drop([\"customer_id\"], axis = 1)"
      ]
    },
    {
      "cell_type": "markdown",
      "id": "c45c6271",
      "metadata": {
        "id": "c45c6271"
      },
      "source": [
        "Variabel customer_id disini dapat dihilangkan karena identifier unik untuk setiap entitas dalam dataset."
      ]
    },
    {
      "cell_type": "markdown",
      "id": "67315d76",
      "metadata": {
        "id": "67315d76"
      },
      "source": [
        "### Train Test Split"
      ]
    },
    {
      "cell_type": "code",
      "execution_count": null,
      "id": "31be103d",
      "metadata": {
        "id": "31be103d"
      },
      "outputs": [],
      "source": [
        "#Train test Split (train : tes = 80:20)\n",
        "from sklearn.model_selection import train_test_split\n",
        "train, test = train_test_split(data, test_size = 0.2, random_state=42)"
      ]
    },
    {
      "cell_type": "code",
      "execution_count": null,
      "id": "0f9d2321",
      "metadata": {
        "id": "0f9d2321",
        "outputId": "82d61968-a268-4337-9480-8f81b92eb1bf"
      },
      "outputs": [
        {
          "data": {
            "text/plain": [
              "churn\n",
              "0    0.807172\n",
              "1    0.192828\n",
              "Name: proportion, dtype: float64"
            ]
          },
          "execution_count": 32,
          "metadata": {},
          "output_type": "execute_result"
        }
      ],
      "source": [
        "train.churn.value_counts(normalize=True)"
      ]
    },
    {
      "cell_type": "code",
      "execution_count": null,
      "id": "1d394a5d",
      "metadata": {
        "id": "1d394a5d",
        "outputId": "6bc60e31-6232-477b-c9b9-c172dd5040ca"
      },
      "outputs": [
        {
          "data": {
            "text/plain": [
              "churn\n",
              "0    0.8029\n",
              "1    0.1971\n",
              "Name: proportion, dtype: float64"
            ]
          },
          "execution_count": 33,
          "metadata": {},
          "output_type": "execute_result"
        }
      ],
      "source": [
        "test.churn.value_counts(normalize=True)"
      ]
    },
    {
      "cell_type": "markdown",
      "id": "29fa7ec1",
      "metadata": {
        "id": "29fa7ec1"
      },
      "source": [
        "## Mendefinisikan Model\n",
        "Disini saya menggunakan 4 model, yaitu:\n",
        "1. Logistic Regression\n",
        "2. KNN\n",
        "3. Decision Tree\n",
        "4. SVM"
      ]
    },
    {
      "cell_type": "code",
      "execution_count": null,
      "id": "ef1a7de5",
      "metadata": {
        "id": "ef1a7de5"
      },
      "outputs": [],
      "source": [
        "#split dataset to X_train, y_train, X_test, y_test\n",
        "X_train = train.drop(columns=['churn'])\n",
        "y_train = train['churn']\n",
        "X_test = test.drop(columns=['churn'])\n",
        "y_test = test['churn']"
      ]
    },
    {
      "cell_type": "code",
      "execution_count": null,
      "id": "47a2fe1b",
      "metadata": {
        "id": "47a2fe1b",
        "outputId": "f92b327a-48d8-40e0-d22c-c5c919927f8c"
      },
      "outputs": [
        {
          "data": {
            "text/plain": [
              "churn\n",
              "0    0.807172\n",
              "1    0.192828\n",
              "Name: proportion, dtype: float64"
            ]
          },
          "execution_count": 35,
          "metadata": {},
          "output_type": "execute_result"
        }
      ],
      "source": [
        "y_train.value_counts(normalize=True)"
      ]
    },
    {
      "cell_type": "code",
      "execution_count": null,
      "id": "68fe187e",
      "metadata": {
        "id": "68fe187e",
        "outputId": "f9867220-d8c8-46e8-8102-6647f8a997c5"
      },
      "outputs": [
        {
          "data": {
            "text/plain": [
              "churn\n",
              "0    0.8029\n",
              "1    0.1971\n",
              "Name: proportion, dtype: float64"
            ]
          },
          "execution_count": 36,
          "metadata": {},
          "output_type": "execute_result"
        }
      ],
      "source": [
        "y_test.value_counts(normalize=True)"
      ]
    },
    {
      "cell_type": "markdown",
      "id": "8c86f0d3",
      "metadata": {
        "id": "8c86f0d3"
      },
      "source": [
        "### Logistic Regression"
      ]
    },
    {
      "cell_type": "code",
      "execution_count": null,
      "id": "56560335",
      "metadata": {
        "id": "56560335"
      },
      "outputs": [],
      "source": [
        "logistic_model = LogisticRegression(\n",
        "    random_state = 42,\n",
        "    class_weight = {0: 0.192828, 1:0.807172}\n",
        ")"
      ]
    },
    {
      "cell_type": "markdown",
      "id": "7e715964",
      "metadata": {
        "id": "7e715964"
      },
      "source": [
        "### KNN"
      ]
    },
    {
      "cell_type": "code",
      "execution_count": null,
      "id": "5715dbc5",
      "metadata": {
        "id": "5715dbc5"
      },
      "outputs": [],
      "source": [
        "knn_clf = KNeighborsClassifier()"
      ]
    },
    {
      "cell_type": "markdown",
      "id": "8efaba73",
      "metadata": {
        "id": "8efaba73"
      },
      "source": [
        "### Decision Tree"
      ]
    },
    {
      "cell_type": "code",
      "execution_count": null,
      "id": "1064ae0a",
      "metadata": {
        "id": "1064ae0a"
      },
      "outputs": [],
      "source": [
        "dt_clf = DecisionTreeClassifier(\n",
        "    random_state = 42,\n",
        "    class_weight = {0: 0.192828, 1:0.807172}\n",
        ")"
      ]
    },
    {
      "cell_type": "markdown",
      "id": "fcca05d3",
      "metadata": {
        "id": "fcca05d3"
      },
      "source": [
        "### SVM"
      ]
    },
    {
      "cell_type": "code",
      "execution_count": null,
      "id": "5476c709",
      "metadata": {
        "id": "5476c709"
      },
      "outputs": [],
      "source": [
        "svm_clf = SVC(\n",
        "    random_state = 42,\n",
        "    probability=True,\n",
        "    class_weight = {0: 0.192828, 1:0.807172}\n",
        ")"
      ]
    },
    {
      "cell_type": "markdown",
      "id": "dfc31bbf",
      "metadata": {
        "id": "dfc31bbf"
      },
      "source": [
        "## Fitting Model to Data"
      ]
    },
    {
      "cell_type": "markdown",
      "id": "7188fd97",
      "metadata": {
        "id": "7188fd97"
      },
      "source": [
        "### Logistic Regression"
      ]
    },
    {
      "cell_type": "code",
      "execution_count": null,
      "id": "3ae7b620",
      "metadata": {
        "id": "3ae7b620",
        "outputId": "7daa713b-f613-4059-c100-5b92a1e0ef54"
      },
      "outputs": [
        {
          "name": "stderr",
          "output_type": "stream",
          "text": [
            "c:\\Users\\M S I\\AppData\\Local\\Programs\\Python\\Python38\\lib\\site-packages\\sklearn\\linear_model\\_logistic.py:460: ConvergenceWarning: lbfgs failed to converge (status=1):\n",
            "STOP: TOTAL NO. of ITERATIONS REACHED LIMIT.\n",
            "\n",
            "Increase the number of iterations (max_iter) or scale the data as shown in:\n",
            "    https://scikit-learn.org/stable/modules/preprocessing.html\n",
            "Please also refer to the documentation for alternative solver options:\n",
            "    https://scikit-learn.org/stable/modules/linear_model.html#logistic-regression\n",
            "  n_iter_i = _check_optimize_result(\n"
          ]
        },
        {
          "data": {
            "text/html": [
              "<style>#sk-container-id-1 {color: black;}#sk-container-id-1 pre{padding: 0;}#sk-container-id-1 div.sk-toggleable {background-color: white;}#sk-container-id-1 label.sk-toggleable__label {cursor: pointer;display: block;width: 100%;margin-bottom: 0;padding: 0.3em;box-sizing: border-box;text-align: center;}#sk-container-id-1 label.sk-toggleable__label-arrow:before {content: \"▸\";float: left;margin-right: 0.25em;color: #696969;}#sk-container-id-1 label.sk-toggleable__label-arrow:hover:before {color: black;}#sk-container-id-1 div.sk-estimator:hover label.sk-toggleable__label-arrow:before {color: black;}#sk-container-id-1 div.sk-toggleable__content {max-height: 0;max-width: 0;overflow: hidden;text-align: left;background-color: #f0f8ff;}#sk-container-id-1 div.sk-toggleable__content pre {margin: 0.2em;color: black;border-radius: 0.25em;background-color: #f0f8ff;}#sk-container-id-1 input.sk-toggleable__control:checked~div.sk-toggleable__content {max-height: 200px;max-width: 100%;overflow: auto;}#sk-container-id-1 input.sk-toggleable__control:checked~label.sk-toggleable__label-arrow:before {content: \"▾\";}#sk-container-id-1 div.sk-estimator input.sk-toggleable__control:checked~label.sk-toggleable__label {background-color: #d4ebff;}#sk-container-id-1 div.sk-label input.sk-toggleable__control:checked~label.sk-toggleable__label {background-color: #d4ebff;}#sk-container-id-1 input.sk-hidden--visually {border: 0;clip: rect(1px 1px 1px 1px);clip: rect(1px, 1px, 1px, 1px);height: 1px;margin: -1px;overflow: hidden;padding: 0;position: absolute;width: 1px;}#sk-container-id-1 div.sk-estimator {font-family: monospace;background-color: #f0f8ff;border: 1px dotted black;border-radius: 0.25em;box-sizing: border-box;margin-bottom: 0.5em;}#sk-container-id-1 div.sk-estimator:hover {background-color: #d4ebff;}#sk-container-id-1 div.sk-parallel-item::after {content: \"\";width: 100%;border-bottom: 1px solid gray;flex-grow: 1;}#sk-container-id-1 div.sk-label:hover label.sk-toggleable__label {background-color: #d4ebff;}#sk-container-id-1 div.sk-serial::before {content: \"\";position: absolute;border-left: 1px solid gray;box-sizing: border-box;top: 0;bottom: 0;left: 50%;z-index: 0;}#sk-container-id-1 div.sk-serial {display: flex;flex-direction: column;align-items: center;background-color: white;padding-right: 0.2em;padding-left: 0.2em;position: relative;}#sk-container-id-1 div.sk-item {position: relative;z-index: 1;}#sk-container-id-1 div.sk-parallel {display: flex;align-items: stretch;justify-content: center;background-color: white;position: relative;}#sk-container-id-1 div.sk-item::before, #sk-container-id-1 div.sk-parallel-item::before {content: \"\";position: absolute;border-left: 1px solid gray;box-sizing: border-box;top: 0;bottom: 0;left: 50%;z-index: -1;}#sk-container-id-1 div.sk-parallel-item {display: flex;flex-direction: column;z-index: 1;position: relative;background-color: white;}#sk-container-id-1 div.sk-parallel-item:first-child::after {align-self: flex-end;width: 50%;}#sk-container-id-1 div.sk-parallel-item:last-child::after {align-self: flex-start;width: 50%;}#sk-container-id-1 div.sk-parallel-item:only-child::after {width: 0;}#sk-container-id-1 div.sk-dashed-wrapped {border: 1px dashed gray;margin: 0 0.4em 0.5em 0.4em;box-sizing: border-box;padding-bottom: 0.4em;background-color: white;}#sk-container-id-1 div.sk-label label {font-family: monospace;font-weight: bold;display: inline-block;line-height: 1.2em;}#sk-container-id-1 div.sk-label-container {text-align: center;}#sk-container-id-1 div.sk-container {/* jupyter's `normalize.less` sets `[hidden] { display: none; }` but bootstrap.min.css set `[hidden] { display: none !important; }` so we also need the `!important` here to be able to override the default hidden behavior on the sphinx rendered scikit-learn.org. See: https://github.com/scikit-learn/scikit-learn/issues/21755 */display: inline-block !important;position: relative;}#sk-container-id-1 div.sk-text-repr-fallback {display: none;}</style><div id=\"sk-container-id-1\" class=\"sk-top-container\"><div class=\"sk-text-repr-fallback\"><pre>LogisticRegression(class_weight={0: 0.192828, 1: 0.807172}, random_state=42)</pre><b>In a Jupyter environment, please rerun this cell to show the HTML representation or trust the notebook. <br />On GitHub, the HTML representation is unable to render, please try loading this page with nbviewer.org.</b></div><div class=\"sk-container\" hidden><div class=\"sk-item\"><div class=\"sk-estimator sk-toggleable\"><input class=\"sk-toggleable__control sk-hidden--visually\" id=\"sk-estimator-id-1\" type=\"checkbox\" checked><label for=\"sk-estimator-id-1\" class=\"sk-toggleable__label sk-toggleable__label-arrow\">LogisticRegression</label><div class=\"sk-toggleable__content\"><pre>LogisticRegression(class_weight={0: 0.192828, 1: 0.807172}, random_state=42)</pre></div></div></div></div></div>"
            ],
            "text/plain": [
              "LogisticRegression(class_weight={0: 0.192828, 1: 0.807172}, random_state=42)"
            ]
          },
          "execution_count": 41,
          "metadata": {},
          "output_type": "execute_result"
        }
      ],
      "source": [
        "logistic_model.fit(X_train, y_train)"
      ]
    },
    {
      "cell_type": "markdown",
      "id": "8ca52439",
      "metadata": {
        "id": "8ca52439"
      },
      "source": [
        "### KNN"
      ]
    },
    {
      "cell_type": "code",
      "execution_count": null,
      "id": "d591a8af",
      "metadata": {
        "id": "d591a8af",
        "outputId": "bcded213-5d64-4df7-e261-28af41905ee3"
      },
      "outputs": [
        {
          "data": {
            "text/html": [
              "<style>#sk-container-id-2 {color: black;}#sk-container-id-2 pre{padding: 0;}#sk-container-id-2 div.sk-toggleable {background-color: white;}#sk-container-id-2 label.sk-toggleable__label {cursor: pointer;display: block;width: 100%;margin-bottom: 0;padding: 0.3em;box-sizing: border-box;text-align: center;}#sk-container-id-2 label.sk-toggleable__label-arrow:before {content: \"▸\";float: left;margin-right: 0.25em;color: #696969;}#sk-container-id-2 label.sk-toggleable__label-arrow:hover:before {color: black;}#sk-container-id-2 div.sk-estimator:hover label.sk-toggleable__label-arrow:before {color: black;}#sk-container-id-2 div.sk-toggleable__content {max-height: 0;max-width: 0;overflow: hidden;text-align: left;background-color: #f0f8ff;}#sk-container-id-2 div.sk-toggleable__content pre {margin: 0.2em;color: black;border-radius: 0.25em;background-color: #f0f8ff;}#sk-container-id-2 input.sk-toggleable__control:checked~div.sk-toggleable__content {max-height: 200px;max-width: 100%;overflow: auto;}#sk-container-id-2 input.sk-toggleable__control:checked~label.sk-toggleable__label-arrow:before {content: \"▾\";}#sk-container-id-2 div.sk-estimator input.sk-toggleable__control:checked~label.sk-toggleable__label {background-color: #d4ebff;}#sk-container-id-2 div.sk-label input.sk-toggleable__control:checked~label.sk-toggleable__label {background-color: #d4ebff;}#sk-container-id-2 input.sk-hidden--visually {border: 0;clip: rect(1px 1px 1px 1px);clip: rect(1px, 1px, 1px, 1px);height: 1px;margin: -1px;overflow: hidden;padding: 0;position: absolute;width: 1px;}#sk-container-id-2 div.sk-estimator {font-family: monospace;background-color: #f0f8ff;border: 1px dotted black;border-radius: 0.25em;box-sizing: border-box;margin-bottom: 0.5em;}#sk-container-id-2 div.sk-estimator:hover {background-color: #d4ebff;}#sk-container-id-2 div.sk-parallel-item::after {content: \"\";width: 100%;border-bottom: 1px solid gray;flex-grow: 1;}#sk-container-id-2 div.sk-label:hover label.sk-toggleable__label {background-color: #d4ebff;}#sk-container-id-2 div.sk-serial::before {content: \"\";position: absolute;border-left: 1px solid gray;box-sizing: border-box;top: 0;bottom: 0;left: 50%;z-index: 0;}#sk-container-id-2 div.sk-serial {display: flex;flex-direction: column;align-items: center;background-color: white;padding-right: 0.2em;padding-left: 0.2em;position: relative;}#sk-container-id-2 div.sk-item {position: relative;z-index: 1;}#sk-container-id-2 div.sk-parallel {display: flex;align-items: stretch;justify-content: center;background-color: white;position: relative;}#sk-container-id-2 div.sk-item::before, #sk-container-id-2 div.sk-parallel-item::before {content: \"\";position: absolute;border-left: 1px solid gray;box-sizing: border-box;top: 0;bottom: 0;left: 50%;z-index: -1;}#sk-container-id-2 div.sk-parallel-item {display: flex;flex-direction: column;z-index: 1;position: relative;background-color: white;}#sk-container-id-2 div.sk-parallel-item:first-child::after {align-self: flex-end;width: 50%;}#sk-container-id-2 div.sk-parallel-item:last-child::after {align-self: flex-start;width: 50%;}#sk-container-id-2 div.sk-parallel-item:only-child::after {width: 0;}#sk-container-id-2 div.sk-dashed-wrapped {border: 1px dashed gray;margin: 0 0.4em 0.5em 0.4em;box-sizing: border-box;padding-bottom: 0.4em;background-color: white;}#sk-container-id-2 div.sk-label label {font-family: monospace;font-weight: bold;display: inline-block;line-height: 1.2em;}#sk-container-id-2 div.sk-label-container {text-align: center;}#sk-container-id-2 div.sk-container {/* jupyter's `normalize.less` sets `[hidden] { display: none; }` but bootstrap.min.css set `[hidden] { display: none !important; }` so we also need the `!important` here to be able to override the default hidden behavior on the sphinx rendered scikit-learn.org. See: https://github.com/scikit-learn/scikit-learn/issues/21755 */display: inline-block !important;position: relative;}#sk-container-id-2 div.sk-text-repr-fallback {display: none;}</style><div id=\"sk-container-id-2\" class=\"sk-top-container\"><div class=\"sk-text-repr-fallback\"><pre>KNeighborsClassifier()</pre><b>In a Jupyter environment, please rerun this cell to show the HTML representation or trust the notebook. <br />On GitHub, the HTML representation is unable to render, please try loading this page with nbviewer.org.</b></div><div class=\"sk-container\" hidden><div class=\"sk-item\"><div class=\"sk-estimator sk-toggleable\"><input class=\"sk-toggleable__control sk-hidden--visually\" id=\"sk-estimator-id-2\" type=\"checkbox\" checked><label for=\"sk-estimator-id-2\" class=\"sk-toggleable__label sk-toggleable__label-arrow\">KNeighborsClassifier</label><div class=\"sk-toggleable__content\"><pre>KNeighborsClassifier()</pre></div></div></div></div></div>"
            ],
            "text/plain": [
              "KNeighborsClassifier()"
            ]
          },
          "execution_count": 42,
          "metadata": {},
          "output_type": "execute_result"
        }
      ],
      "source": [
        "knn_clf.fit(X_train, y_train)"
      ]
    },
    {
      "cell_type": "markdown",
      "id": "2cf986c2",
      "metadata": {
        "id": "2cf986c2"
      },
      "source": [
        "### Decision Tree"
      ]
    },
    {
      "cell_type": "code",
      "execution_count": null,
      "id": "15c157d3",
      "metadata": {
        "id": "15c157d3",
        "outputId": "abbecf6b-eca7-44c2-9067-33e92a1f4307"
      },
      "outputs": [
        {
          "data": {
            "text/html": [
              "<style>#sk-container-id-3 {color: black;}#sk-container-id-3 pre{padding: 0;}#sk-container-id-3 div.sk-toggleable {background-color: white;}#sk-container-id-3 label.sk-toggleable__label {cursor: pointer;display: block;width: 100%;margin-bottom: 0;padding: 0.3em;box-sizing: border-box;text-align: center;}#sk-container-id-3 label.sk-toggleable__label-arrow:before {content: \"▸\";float: left;margin-right: 0.25em;color: #696969;}#sk-container-id-3 label.sk-toggleable__label-arrow:hover:before {color: black;}#sk-container-id-3 div.sk-estimator:hover label.sk-toggleable__label-arrow:before {color: black;}#sk-container-id-3 div.sk-toggleable__content {max-height: 0;max-width: 0;overflow: hidden;text-align: left;background-color: #f0f8ff;}#sk-container-id-3 div.sk-toggleable__content pre {margin: 0.2em;color: black;border-radius: 0.25em;background-color: #f0f8ff;}#sk-container-id-3 input.sk-toggleable__control:checked~div.sk-toggleable__content {max-height: 200px;max-width: 100%;overflow: auto;}#sk-container-id-3 input.sk-toggleable__control:checked~label.sk-toggleable__label-arrow:before {content: \"▾\";}#sk-container-id-3 div.sk-estimator input.sk-toggleable__control:checked~label.sk-toggleable__label {background-color: #d4ebff;}#sk-container-id-3 div.sk-label input.sk-toggleable__control:checked~label.sk-toggleable__label {background-color: #d4ebff;}#sk-container-id-3 input.sk-hidden--visually {border: 0;clip: rect(1px 1px 1px 1px);clip: rect(1px, 1px, 1px, 1px);height: 1px;margin: -1px;overflow: hidden;padding: 0;position: absolute;width: 1px;}#sk-container-id-3 div.sk-estimator {font-family: monospace;background-color: #f0f8ff;border: 1px dotted black;border-radius: 0.25em;box-sizing: border-box;margin-bottom: 0.5em;}#sk-container-id-3 div.sk-estimator:hover {background-color: #d4ebff;}#sk-container-id-3 div.sk-parallel-item::after {content: \"\";width: 100%;border-bottom: 1px solid gray;flex-grow: 1;}#sk-container-id-3 div.sk-label:hover label.sk-toggleable__label {background-color: #d4ebff;}#sk-container-id-3 div.sk-serial::before {content: \"\";position: absolute;border-left: 1px solid gray;box-sizing: border-box;top: 0;bottom: 0;left: 50%;z-index: 0;}#sk-container-id-3 div.sk-serial {display: flex;flex-direction: column;align-items: center;background-color: white;padding-right: 0.2em;padding-left: 0.2em;position: relative;}#sk-container-id-3 div.sk-item {position: relative;z-index: 1;}#sk-container-id-3 div.sk-parallel {display: flex;align-items: stretch;justify-content: center;background-color: white;position: relative;}#sk-container-id-3 div.sk-item::before, #sk-container-id-3 div.sk-parallel-item::before {content: \"\";position: absolute;border-left: 1px solid gray;box-sizing: border-box;top: 0;bottom: 0;left: 50%;z-index: -1;}#sk-container-id-3 div.sk-parallel-item {display: flex;flex-direction: column;z-index: 1;position: relative;background-color: white;}#sk-container-id-3 div.sk-parallel-item:first-child::after {align-self: flex-end;width: 50%;}#sk-container-id-3 div.sk-parallel-item:last-child::after {align-self: flex-start;width: 50%;}#sk-container-id-3 div.sk-parallel-item:only-child::after {width: 0;}#sk-container-id-3 div.sk-dashed-wrapped {border: 1px dashed gray;margin: 0 0.4em 0.5em 0.4em;box-sizing: border-box;padding-bottom: 0.4em;background-color: white;}#sk-container-id-3 div.sk-label label {font-family: monospace;font-weight: bold;display: inline-block;line-height: 1.2em;}#sk-container-id-3 div.sk-label-container {text-align: center;}#sk-container-id-3 div.sk-container {/* jupyter's `normalize.less` sets `[hidden] { display: none; }` but bootstrap.min.css set `[hidden] { display: none !important; }` so we also need the `!important` here to be able to override the default hidden behavior on the sphinx rendered scikit-learn.org. See: https://github.com/scikit-learn/scikit-learn/issues/21755 */display: inline-block !important;position: relative;}#sk-container-id-3 div.sk-text-repr-fallback {display: none;}</style><div id=\"sk-container-id-3\" class=\"sk-top-container\"><div class=\"sk-text-repr-fallback\"><pre>DecisionTreeClassifier(class_weight={0: 0.192828, 1: 0.807172}, random_state=42)</pre><b>In a Jupyter environment, please rerun this cell to show the HTML representation or trust the notebook. <br />On GitHub, the HTML representation is unable to render, please try loading this page with nbviewer.org.</b></div><div class=\"sk-container\" hidden><div class=\"sk-item\"><div class=\"sk-estimator sk-toggleable\"><input class=\"sk-toggleable__control sk-hidden--visually\" id=\"sk-estimator-id-3\" type=\"checkbox\" checked><label for=\"sk-estimator-id-3\" class=\"sk-toggleable__label sk-toggleable__label-arrow\">DecisionTreeClassifier</label><div class=\"sk-toggleable__content\"><pre>DecisionTreeClassifier(class_weight={0: 0.192828, 1: 0.807172}, random_state=42)</pre></div></div></div></div></div>"
            ],
            "text/plain": [
              "DecisionTreeClassifier(class_weight={0: 0.192828, 1: 0.807172}, random_state=42)"
            ]
          },
          "execution_count": 43,
          "metadata": {},
          "output_type": "execute_result"
        }
      ],
      "source": [
        "dt_clf.fit(X_train, y_train)"
      ]
    },
    {
      "cell_type": "markdown",
      "id": "22c8f378",
      "metadata": {
        "id": "22c8f378"
      },
      "source": [
        "### SVM"
      ]
    },
    {
      "cell_type": "code",
      "execution_count": null,
      "id": "b454fd78",
      "metadata": {
        "id": "b454fd78",
        "outputId": "50d8c30e-6313-45e0-e182-95592db13018"
      },
      "outputs": [
        {
          "data": {
            "text/html": [
              "<style>#sk-container-id-4 {color: black;}#sk-container-id-4 pre{padding: 0;}#sk-container-id-4 div.sk-toggleable {background-color: white;}#sk-container-id-4 label.sk-toggleable__label {cursor: pointer;display: block;width: 100%;margin-bottom: 0;padding: 0.3em;box-sizing: border-box;text-align: center;}#sk-container-id-4 label.sk-toggleable__label-arrow:before {content: \"▸\";float: left;margin-right: 0.25em;color: #696969;}#sk-container-id-4 label.sk-toggleable__label-arrow:hover:before {color: black;}#sk-container-id-4 div.sk-estimator:hover label.sk-toggleable__label-arrow:before {color: black;}#sk-container-id-4 div.sk-toggleable__content {max-height: 0;max-width: 0;overflow: hidden;text-align: left;background-color: #f0f8ff;}#sk-container-id-4 div.sk-toggleable__content pre {margin: 0.2em;color: black;border-radius: 0.25em;background-color: #f0f8ff;}#sk-container-id-4 input.sk-toggleable__control:checked~div.sk-toggleable__content {max-height: 200px;max-width: 100%;overflow: auto;}#sk-container-id-4 input.sk-toggleable__control:checked~label.sk-toggleable__label-arrow:before {content: \"▾\";}#sk-container-id-4 div.sk-estimator input.sk-toggleable__control:checked~label.sk-toggleable__label {background-color: #d4ebff;}#sk-container-id-4 div.sk-label input.sk-toggleable__control:checked~label.sk-toggleable__label {background-color: #d4ebff;}#sk-container-id-4 input.sk-hidden--visually {border: 0;clip: rect(1px 1px 1px 1px);clip: rect(1px, 1px, 1px, 1px);height: 1px;margin: -1px;overflow: hidden;padding: 0;position: absolute;width: 1px;}#sk-container-id-4 div.sk-estimator {font-family: monospace;background-color: #f0f8ff;border: 1px dotted black;border-radius: 0.25em;box-sizing: border-box;margin-bottom: 0.5em;}#sk-container-id-4 div.sk-estimator:hover {background-color: #d4ebff;}#sk-container-id-4 div.sk-parallel-item::after {content: \"\";width: 100%;border-bottom: 1px solid gray;flex-grow: 1;}#sk-container-id-4 div.sk-label:hover label.sk-toggleable__label {background-color: #d4ebff;}#sk-container-id-4 div.sk-serial::before {content: \"\";position: absolute;border-left: 1px solid gray;box-sizing: border-box;top: 0;bottom: 0;left: 50%;z-index: 0;}#sk-container-id-4 div.sk-serial {display: flex;flex-direction: column;align-items: center;background-color: white;padding-right: 0.2em;padding-left: 0.2em;position: relative;}#sk-container-id-4 div.sk-item {position: relative;z-index: 1;}#sk-container-id-4 div.sk-parallel {display: flex;align-items: stretch;justify-content: center;background-color: white;position: relative;}#sk-container-id-4 div.sk-item::before, #sk-container-id-4 div.sk-parallel-item::before {content: \"\";position: absolute;border-left: 1px solid gray;box-sizing: border-box;top: 0;bottom: 0;left: 50%;z-index: -1;}#sk-container-id-4 div.sk-parallel-item {display: flex;flex-direction: column;z-index: 1;position: relative;background-color: white;}#sk-container-id-4 div.sk-parallel-item:first-child::after {align-self: flex-end;width: 50%;}#sk-container-id-4 div.sk-parallel-item:last-child::after {align-self: flex-start;width: 50%;}#sk-container-id-4 div.sk-parallel-item:only-child::after {width: 0;}#sk-container-id-4 div.sk-dashed-wrapped {border: 1px dashed gray;margin: 0 0.4em 0.5em 0.4em;box-sizing: border-box;padding-bottom: 0.4em;background-color: white;}#sk-container-id-4 div.sk-label label {font-family: monospace;font-weight: bold;display: inline-block;line-height: 1.2em;}#sk-container-id-4 div.sk-label-container {text-align: center;}#sk-container-id-4 div.sk-container {/* jupyter's `normalize.less` sets `[hidden] { display: none; }` but bootstrap.min.css set `[hidden] { display: none !important; }` so we also need the `!important` here to be able to override the default hidden behavior on the sphinx rendered scikit-learn.org. See: https://github.com/scikit-learn/scikit-learn/issues/21755 */display: inline-block !important;position: relative;}#sk-container-id-4 div.sk-text-repr-fallback {display: none;}</style><div id=\"sk-container-id-4\" class=\"sk-top-container\"><div class=\"sk-text-repr-fallback\"><pre>SVC(class_weight={0: 0.192828, 1: 0.807172}, probability=True, random_state=42)</pre><b>In a Jupyter environment, please rerun this cell to show the HTML representation or trust the notebook. <br />On GitHub, the HTML representation is unable to render, please try loading this page with nbviewer.org.</b></div><div class=\"sk-container\" hidden><div class=\"sk-item\"><div class=\"sk-estimator sk-toggleable\"><input class=\"sk-toggleable__control sk-hidden--visually\" id=\"sk-estimator-id-4\" type=\"checkbox\" checked><label for=\"sk-estimator-id-4\" class=\"sk-toggleable__label sk-toggleable__label-arrow\">SVC</label><div class=\"sk-toggleable__content\"><pre>SVC(class_weight={0: 0.192828, 1: 0.807172}, probability=True, random_state=42)</pre></div></div></div></div></div>"
            ],
            "text/plain": [
              "SVC(class_weight={0: 0.192828, 1: 0.807172}, probability=True, random_state=42)"
            ]
          },
          "execution_count": 44,
          "metadata": {},
          "output_type": "execute_result"
        }
      ],
      "source": [
        "svm_clf.fit(X_train, y_train)"
      ]
    },
    {
      "cell_type": "markdown",
      "id": "3e74a5a3",
      "metadata": {
        "id": "3e74a5a3"
      },
      "source": [
        "## Model Evaluasi"
      ]
    },
    {
      "cell_type": "code",
      "execution_count": null,
      "id": "ca2631cc",
      "metadata": {
        "id": "ca2631cc"
      },
      "outputs": [],
      "source": [
        "def evaluate(model, x_test = X_test, y_test = y_test, x_train=X_train, y_train=y_train):\n",
        "    y_pred_train = model.predict(x_train)\n",
        "    print('======= Data Train =======')\n",
        "    print('------')\n",
        "    print('Confusion Matrix Data Train:')\n",
        "    print()\n",
        "    print(classification_report(y_train, y_pred_train))\n",
        "    print('------')\n",
        "\n",
        "    tn, fp, fn, tp = confusion_matrix(y_train, y_pred_train).ravel()\n",
        "    print('Assuming 1 as positive, we get for Data Train:')\n",
        "    print('')\n",
        "    print('True Positive:', tp)\n",
        "    print('True Negative:', tn)\n",
        "    print('False Positive:', fp)\n",
        "    print('False Negative:', fn)\n",
        "\n",
        "    print('')\n",
        "\n",
        "    precision = tp/(tp+fp)\n",
        "    recall = tp/(tp+fn)\n",
        "    print('Accuracy Data Train:', accuracy_score(y_train, y_pred_train))\n",
        "    print('Precision Data Train:', precision)\n",
        "    print('Recall Data Train:', recall)\n",
        "    print('F1-Score Data Train:', 2 * (precision * recall)/(precision + recall))\n",
        "\n",
        "    y_pred = model.predict(x_test)\n",
        "    print('======= Data Test =======')\n",
        "    print('------')\n",
        "    print('Confusion Matrix:')\n",
        "    print()\n",
        "    print(classification_report(y_test, y_pred))\n",
        "    print('------')\n",
        "\n",
        "    tn, fp, fn, tp = confusion_matrix(y_test, y_pred).ravel()\n",
        "    print('Assuming 1 as positive, we get:')\n",
        "    print('')\n",
        "    print('True Positive:', tp)\n",
        "    print('True Negative:', tn)\n",
        "    print('False Positive:', fp)\n",
        "    print('False Negative:', fn)\n",
        "\n",
        "    print('')\n",
        "\n",
        "    precision = tp/(tp+fp)\n",
        "    recall = tp/(tp+fn)\n",
        "    print('Accuracy:', accuracy_score(y_test, y_pred))\n",
        "    print('Precision Data Test:', precision)\n",
        "    print('Recall Data Test:', recall)\n",
        "    print('F1-Score Data Test:', 2 * (precision * recall)/(precision + recall))"
      ]
    },
    {
      "cell_type": "code",
      "execution_count": null,
      "id": "53718155",
      "metadata": {
        "id": "53718155",
        "outputId": "07b17bad-4582-4ee6-fc2b-5b7725c4bcbc"
      },
      "outputs": [
        {
          "data": {
            "text/plain": [
              "(17653, 24)"
            ]
          },
          "execution_count": 46,
          "metadata": {},
          "output_type": "execute_result"
        }
      ],
      "source": [
        "X_train.shape"
      ]
    },
    {
      "cell_type": "code",
      "execution_count": null,
      "id": "82ec3b3a",
      "metadata": {
        "id": "82ec3b3a",
        "outputId": "7c0a188a-7c54-41bc-8a51-600e7a946074"
      },
      "outputs": [
        {
          "data": {
            "text/plain": [
              "(4414, 24)"
            ]
          },
          "execution_count": 47,
          "metadata": {},
          "output_type": "execute_result"
        }
      ],
      "source": [
        "X_test.shape"
      ]
    },
    {
      "cell_type": "markdown",
      "id": "1865b237",
      "metadata": {
        "id": "1865b237"
      },
      "source": [
        "### Evaluasi Menggunakan Confusion Matrix"
      ]
    },
    {
      "cell_type": "markdown",
      "id": "c4d78ce6",
      "metadata": {
        "id": "c4d78ce6"
      },
      "source": [
        "### Evaluasi Logistic Regression"
      ]
    },
    {
      "cell_type": "code",
      "execution_count": null,
      "id": "4c4d0d47",
      "metadata": {
        "id": "4c4d0d47",
        "outputId": "409d371a-26c0-4d71-b16f-2d2edbe41e40"
      },
      "outputs": [
        {
          "name": "stdout",
          "output_type": "stream",
          "text": [
            "======= Data Train =======\n",
            "------\n",
            "Confusion Matrix Data Train:\n",
            "\n",
            "              precision    recall  f1-score   support\n",
            "\n",
            "           0       0.90      0.80      0.85     14249\n",
            "           1       0.43      0.62      0.50      3404\n",
            "\n",
            "    accuracy                           0.77     17653\n",
            "   macro avg       0.66      0.71      0.68     17653\n",
            "weighted avg       0.81      0.77      0.78     17653\n",
            "\n",
            "------\n",
            "Assuming 1 as positive, we get for Data Train:\n",
            "\n",
            "True Positive: 2094\n",
            "True Negative: 11433\n",
            "False Positive: 2816\n",
            "False Negative: 1310\n",
            "\n",
            "Accuracy Data Train: 0.7662720217526766\n",
            "Precision Data Train: 0.4264765784114053\n",
            "Recall Data Train: 0.6151586368977673\n",
            "F1-Score Data Train: 0.5037286504690882\n",
            "======= Data Test =======\n",
            "------\n",
            "Confusion Matrix:\n",
            "\n",
            "              precision    recall  f1-score   support\n",
            "\n",
            "           0       0.89      0.80      0.84      3544\n",
            "           1       0.41      0.59      0.49       870\n",
            "\n",
            "    accuracy                           0.76      4414\n",
            "   macro avg       0.65      0.69      0.66      4414\n",
            "weighted avg       0.79      0.76      0.77      4414\n",
            "\n",
            "------\n",
            "Assuming 1 as positive, we get:\n",
            "\n",
            "True Positive: 511\n",
            "True Negative: 2823\n",
            "False Positive: 721\n",
            "False Negative: 359\n",
            "\n",
            "Accuracy: 0.7553239691889443\n",
            "Precision Data Test: 0.4147727272727273\n",
            "Recall Data Test: 0.5873563218390805\n",
            "F1-Score Data Test: 0.4862036156041865\n"
          ]
        }
      ],
      "source": [
        "evaluate(logistic_model, x_test = X_test, y_test = y_test, x_train=X_train, y_train=y_train)"
      ]
    },
    {
      "cell_type": "markdown",
      "id": "ed197168",
      "metadata": {
        "id": "ed197168"
      },
      "source": [
        "### Evaluasi KNN"
      ]
    },
    {
      "cell_type": "code",
      "execution_count": null,
      "id": "f276c3e6",
      "metadata": {
        "id": "f276c3e6",
        "outputId": "891b6310-8a36-40f6-c758-99e8f2d35330"
      },
      "outputs": [
        {
          "name": "stderr",
          "output_type": "stream",
          "text": [
            "c:\\Users\\M S I\\AppData\\Local\\Programs\\Python\\Python38\\lib\\site-packages\\sklearn\\base.py:465: UserWarning: X does not have valid feature names, but KNeighborsClassifier was fitted with feature names\n",
            "  warnings.warn(\n"
          ]
        },
        {
          "name": "stdout",
          "output_type": "stream",
          "text": [
            "======= Data Train =======\n",
            "------\n",
            "Confusion Matrix Data Train:\n",
            "\n",
            "              precision    recall  f1-score   support\n",
            "\n",
            "           0       0.89      0.97      0.93     14249\n",
            "           1       0.78      0.49      0.60      3404\n",
            "\n",
            "    accuracy                           0.87     17653\n",
            "   macro avg       0.83      0.73      0.76     17653\n",
            "weighted avg       0.87      0.87      0.86     17653\n",
            "\n",
            "------\n",
            "Assuming 1 as positive, we get for Data Train:\n",
            "\n",
            "True Positive: 1663\n",
            "True Negative: 13776\n",
            "False Positive: 473\n",
            "False Negative: 1741\n",
            "\n",
            "Accuracy Data Train: 0.8745822239845918\n",
            "Precision Data Train: 0.778558052434457\n",
            "Recall Data Train: 0.48854289071680373\n",
            "F1-Score Data Train: 0.6003610108303249\n"
          ]
        },
        {
          "name": "stderr",
          "output_type": "stream",
          "text": [
            "c:\\Users\\M S I\\AppData\\Local\\Programs\\Python\\Python38\\lib\\site-packages\\sklearn\\base.py:465: UserWarning: X does not have valid feature names, but KNeighborsClassifier was fitted with feature names\n",
            "  warnings.warn(\n"
          ]
        },
        {
          "name": "stdout",
          "output_type": "stream",
          "text": [
            "======= Data Test =======\n",
            "------\n",
            "Confusion Matrix:\n",
            "\n",
            "              precision    recall  f1-score   support\n",
            "\n",
            "           0       0.86      0.94      0.90      3544\n",
            "           1       0.60      0.37      0.45       870\n",
            "\n",
            "    accuracy                           0.83      4414\n",
            "   macro avg       0.73      0.65      0.68      4414\n",
            "weighted avg       0.81      0.83      0.81      4414\n",
            "\n",
            "------\n",
            "Assuming 1 as positive, we get:\n",
            "\n",
            "True Positive: 318\n",
            "True Negative: 3334\n",
            "False Positive: 210\n",
            "False Negative: 552\n",
            "\n",
            "Accuracy: 0.8273674671499773\n",
            "Precision Data Test: 0.6022727272727273\n",
            "Recall Data Test: 0.36551724137931035\n",
            "F1-Score Data Test: 0.45493562231759654\n"
          ]
        }
      ],
      "source": [
        "evaluate(knn_clf, x_test = X_test.values, y_test = y_test, x_train=X_train.values, y_train=y_train)"
      ]
    },
    {
      "cell_type": "markdown",
      "id": "7d2f91c0",
      "metadata": {
        "id": "7d2f91c0"
      },
      "source": [
        "### Evaluasi Decision Tree"
      ]
    },
    {
      "cell_type": "code",
      "execution_count": null,
      "id": "72c58097",
      "metadata": {
        "id": "72c58097",
        "outputId": "d7872d96-fe25-4c27-b431-1a8bf99eb181"
      },
      "outputs": [
        {
          "name": "stdout",
          "output_type": "stream",
          "text": [
            "======= Data Train =======\n",
            "------\n",
            "Confusion Matrix Data Train:\n",
            "\n",
            "              precision    recall  f1-score   support\n",
            "\n",
            "           0       1.00      1.00      1.00     14249\n",
            "           1       1.00      1.00      1.00      3404\n",
            "\n",
            "    accuracy                           1.00     17653\n",
            "   macro avg       1.00      1.00      1.00     17653\n",
            "weighted avg       1.00      1.00      1.00     17653\n",
            "\n",
            "------\n",
            "Assuming 1 as positive, we get for Data Train:\n",
            "\n",
            "True Positive: 3404\n",
            "True Negative: 14249\n",
            "False Positive: 0\n",
            "False Negative: 0\n",
            "\n",
            "Accuracy Data Train: 1.0\n",
            "Precision Data Train: 1.0\n",
            "Recall Data Train: 1.0\n",
            "F1-Score Data Train: 1.0\n",
            "======= Data Test =======\n",
            "------\n",
            "Confusion Matrix:\n",
            "\n",
            "              precision    recall  f1-score   support\n",
            "\n",
            "           0       0.86      0.86      0.86      3544\n",
            "           1       0.44      0.44      0.44       870\n",
            "\n",
            "    accuracy                           0.78      4414\n",
            "   macro avg       0.65      0.65      0.65      4414\n",
            "weighted avg       0.78      0.78      0.78      4414\n",
            "\n",
            "------\n",
            "Assuming 1 as positive, we get:\n",
            "\n",
            "True Positive: 387\n",
            "True Negative: 3043\n",
            "False Positive: 501\n",
            "False Negative: 483\n",
            "\n",
            "Accuracy: 0.7770729497054826\n",
            "Precision Data Test: 0.4358108108108108\n",
            "Recall Data Test: 0.44482758620689655\n",
            "F1-Score Data Test: 0.44027303754266206\n"
          ]
        }
      ],
      "source": [
        "evaluate(dt_clf, x_test = X_test, y_test = y_test, x_train=X_train, y_train=y_train)"
      ]
    },
    {
      "cell_type": "markdown",
      "id": "2cb969ee",
      "metadata": {
        "id": "2cb969ee"
      },
      "source": [
        "### Evaluasi SVM"
      ]
    },
    {
      "cell_type": "code",
      "execution_count": null,
      "id": "661dd57e",
      "metadata": {
        "id": "661dd57e",
        "outputId": "a238b91f-f40b-445f-f320-6b9a49f114db"
      },
      "outputs": [
        {
          "name": "stderr",
          "output_type": "stream",
          "text": [
            "c:\\Users\\M S I\\AppData\\Local\\Programs\\Python\\Python38\\lib\\site-packages\\sklearn\\base.py:465: UserWarning: X does not have valid feature names, but SVC was fitted with feature names\n",
            "  warnings.warn(\n"
          ]
        },
        {
          "name": "stdout",
          "output_type": "stream",
          "text": [
            "======= Data Train =======\n",
            "------\n",
            "Confusion Matrix Data Train:\n",
            "\n",
            "              precision    recall  f1-score   support\n",
            "\n",
            "           0       0.87      0.89      0.88     14249\n",
            "           1       0.51      0.46      0.48      3404\n",
            "\n",
            "    accuracy                           0.81     17653\n",
            "   macro avg       0.69      0.68      0.68     17653\n",
            "weighted avg       0.80      0.81      0.81     17653\n",
            "\n",
            "------\n",
            "Assuming 1 as positive, we get for Data Train:\n",
            "\n",
            "True Positive: 1574\n",
            "True Negative: 12715\n",
            "False Positive: 1534\n",
            "False Negative: 1830\n",
            "\n",
            "Accuracy Data Train: 0.8094374893785758\n",
            "Precision Data Train: 0.5064350064350064\n",
            "Recall Data Train: 0.46239717978848416\n",
            "F1-Score Data Train: 0.4834152334152334\n"
          ]
        },
        {
          "name": "stderr",
          "output_type": "stream",
          "text": [
            "c:\\Users\\M S I\\AppData\\Local\\Programs\\Python\\Python38\\lib\\site-packages\\sklearn\\base.py:465: UserWarning: X does not have valid feature names, but SVC was fitted with feature names\n",
            "  warnings.warn(\n"
          ]
        },
        {
          "name": "stdout",
          "output_type": "stream",
          "text": [
            "======= Data Test =======\n",
            "------\n",
            "Confusion Matrix:\n",
            "\n",
            "              precision    recall  f1-score   support\n",
            "\n",
            "           0       0.87      0.88      0.87      3544\n",
            "           1       0.48      0.45      0.46       870\n",
            "\n",
            "    accuracy                           0.79      4414\n",
            "   macro avg       0.67      0.66      0.67      4414\n",
            "weighted avg       0.79      0.79      0.79      4414\n",
            "\n",
            "------\n",
            "Assuming 1 as positive, we get:\n",
            "\n",
            "True Positive: 391\n",
            "True Negative: 3117\n",
            "False Positive: 427\n",
            "False Negative: 479\n",
            "\n",
            "Accuracy: 0.7947439963751699\n",
            "Precision Data Test: 0.4779951100244499\n",
            "Recall Data Test: 0.4494252873563218\n",
            "F1-Score Data Test: 0.4632701421800947\n"
          ]
        }
      ],
      "source": [
        "evaluate(svm_clf, x_test = X_test.values, y_test = y_test, x_train=X_train.values, y_train=y_train)"
      ]
    },
    {
      "cell_type": "markdown",
      "id": "47a08c37",
      "metadata": {
        "id": "47a08c37"
      },
      "source": [
        "### Membuat dataframe dari hasil evaluasi semua model"
      ]
    },
    {
      "cell_type": "code",
      "execution_count": null,
      "id": "8880e6d5",
      "metadata": {
        "id": "8880e6d5"
      },
      "outputs": [],
      "source": [
        "def evaluate_model(model, x_train, y_train, x_test, y_test, model_name, evaluation_df):\n",
        "\n",
        "    # Make predictions\n",
        "    y_pred = model.predict(x_train)\n",
        "\n",
        "    # Calculate evaluation metrics\n",
        "    accuracy = accuracy_score(y_train, y_pred)\n",
        "    precision = precision_score(y_train, y_pred)\n",
        "    recall = recall_score(y_train, y_pred)\n",
        "    f1 = f1_score(y_train, y_pred)\n",
        "\n",
        "    # Add results to the evaluation DataFrame\n",
        "    result = pd.DataFrame({\n",
        "        'Model': [model_name + ' - Train'],\n",
        "        'Accuracy': [accuracy],\n",
        "        'Precision': [precision],\n",
        "        'Recall': [recall],\n",
        "        'F1-Score': [f1]\n",
        "    })\n",
        "\n",
        "    evaluation_df = pd.concat([evaluation_df, result], ignore_index=True)\n",
        "\n",
        "        # Make predictions\n",
        "    y_pred = model.predict(x_test)\n",
        "\n",
        "    # Calculate evaluation metrics\n",
        "    accuracy = accuracy_score(y_test, y_pred)\n",
        "    precision = precision_score(y_test, y_pred)\n",
        "    recall = recall_score(y_test, y_pred)\n",
        "    f1 = f1_score(y_test, y_pred)\n",
        "\n",
        "    # Add results to the evaluation DataFrame\n",
        "    result = pd.DataFrame({\n",
        "        'Model': [model_name + ' - Test'],\n",
        "        'Accuracy': [accuracy],\n",
        "        'Precision': [precision],\n",
        "        'Recall': [recall],\n",
        "        'F1-Score': [f1]\n",
        "    })\n",
        "\n",
        "    evaluation_df = pd.concat([evaluation_df, result], ignore_index=True)\n",
        "\n",
        "    return evaluation_df"
      ]
    },
    {
      "cell_type": "code",
      "execution_count": null,
      "id": "5927f209",
      "metadata": {
        "id": "5927f209",
        "outputId": "d807fd39-3d74-4a46-c333-249a35e5d550"
      },
      "outputs": [
        {
          "data": {
            "text/html": [
              "<div>\n",
              "<style scoped>\n",
              "    .dataframe tbody tr th:only-of-type {\n",
              "        vertical-align: middle;\n",
              "    }\n",
              "\n",
              "    .dataframe tbody tr th {\n",
              "        vertical-align: top;\n",
              "    }\n",
              "\n",
              "    .dataframe thead th {\n",
              "        text-align: right;\n",
              "    }\n",
              "</style>\n",
              "<table border=\"1\" class=\"dataframe\">\n",
              "  <thead>\n",
              "    <tr style=\"text-align: right;\">\n",
              "      <th></th>\n",
              "      <th>Model</th>\n",
              "      <th>Accuracy</th>\n",
              "      <th>Precision</th>\n",
              "      <th>Recall</th>\n",
              "      <th>F1-Score</th>\n",
              "    </tr>\n",
              "  </thead>\n",
              "  <tbody>\n",
              "    <tr>\n",
              "      <th>0</th>\n",
              "      <td>LogReg - Train</td>\n",
              "      <td>0.766272</td>\n",
              "      <td>0.426477</td>\n",
              "      <td>0.615159</td>\n",
              "      <td>0.503729</td>\n",
              "    </tr>\n",
              "    <tr>\n",
              "      <th>1</th>\n",
              "      <td>LogReg - Test</td>\n",
              "      <td>0.755324</td>\n",
              "      <td>0.414773</td>\n",
              "      <td>0.587356</td>\n",
              "      <td>0.486204</td>\n",
              "    </tr>\n",
              "    <tr>\n",
              "      <th>2</th>\n",
              "      <td>knn - Train</td>\n",
              "      <td>0.874582</td>\n",
              "      <td>0.778558</td>\n",
              "      <td>0.488543</td>\n",
              "      <td>0.600361</td>\n",
              "    </tr>\n",
              "    <tr>\n",
              "      <th>3</th>\n",
              "      <td>knn - Test</td>\n",
              "      <td>0.827367</td>\n",
              "      <td>0.602273</td>\n",
              "      <td>0.365517</td>\n",
              "      <td>0.454936</td>\n",
              "    </tr>\n",
              "    <tr>\n",
              "      <th>4</th>\n",
              "      <td>dt - Train</td>\n",
              "      <td>1.000000</td>\n",
              "      <td>1.000000</td>\n",
              "      <td>1.000000</td>\n",
              "      <td>1.000000</td>\n",
              "    </tr>\n",
              "    <tr>\n",
              "      <th>5</th>\n",
              "      <td>dt - Test</td>\n",
              "      <td>0.777073</td>\n",
              "      <td>0.435811</td>\n",
              "      <td>0.444828</td>\n",
              "      <td>0.440273</td>\n",
              "    </tr>\n",
              "    <tr>\n",
              "      <th>6</th>\n",
              "      <td>svm - Train</td>\n",
              "      <td>0.809437</td>\n",
              "      <td>0.506435</td>\n",
              "      <td>0.462397</td>\n",
              "      <td>0.483415</td>\n",
              "    </tr>\n",
              "    <tr>\n",
              "      <th>7</th>\n",
              "      <td>svm - Test</td>\n",
              "      <td>0.794744</td>\n",
              "      <td>0.477995</td>\n",
              "      <td>0.449425</td>\n",
              "      <td>0.463270</td>\n",
              "    </tr>\n",
              "  </tbody>\n",
              "</table>\n",
              "</div>"
            ],
            "text/plain": [
              "            Model  Accuracy  Precision    Recall  F1-Score\n",
              "0  LogReg - Train  0.766272   0.426477  0.615159  0.503729\n",
              "1   LogReg - Test  0.755324   0.414773  0.587356  0.486204\n",
              "2     knn - Train  0.874582   0.778558  0.488543  0.600361\n",
              "3      knn - Test  0.827367   0.602273  0.365517  0.454936\n",
              "4      dt - Train  1.000000   1.000000  1.000000  1.000000\n",
              "5       dt - Test  0.777073   0.435811  0.444828  0.440273\n",
              "6     svm - Train  0.809437   0.506435  0.462397  0.483415\n",
              "7      svm - Test  0.794744   0.477995  0.449425  0.463270"
            ]
          },
          "execution_count": 53,
          "metadata": {},
          "output_type": "execute_result"
        }
      ],
      "source": [
        "evaluation_df = pd.DataFrame(columns=['Model', 'Accuracy', 'Precision', 'Recall', 'F1-Score'])\n",
        "evaluation_df = evaluate_model(logistic_model, X_train,y_train,\n",
        "                               X_test,y_test,'LogReg',evaluation_df)\n",
        "evaluation_df = evaluate_model(knn_clf, X_train,y_train,\n",
        "                               X_test,y_test,'knn',evaluation_df)\n",
        "evaluation_df = evaluate_model(dt_clf, X_train,y_train,\n",
        "                               X_test,y_test,'dt',evaluation_df)\n",
        "evaluation_df = evaluate_model(svm_clf, X_train,y_train,\n",
        "                               X_test,y_test,'svm',evaluation_df)\n",
        "evaluation_df"
      ]
    },
    {
      "cell_type": "markdown",
      "id": "eaca142b",
      "metadata": {
        "id": "eaca142b"
      },
      "source": [
        "Dari hasil 4 model diatas terlihat recall yang lebih baik yaitu regresi logistik dengan train 61.51% dan test 58.73%.\n",
        "kemudian saya menggunakan regresi logistik untuk menghitung potensi keuntungan bisnis."
      ]
    },
    {
      "cell_type": "markdown",
      "id": "0012b8ca",
      "metadata": {
        "id": "0012b8ca"
      },
      "source": [
        "### Cumulative Gain Plot"
      ]
    },
    {
      "cell_type": "code",
      "execution_count": null,
      "id": "f1805f45",
      "metadata": {
        "id": "f1805f45",
        "outputId": "d512d2fe-87de-4c6a-bb78-2101faf29f34"
      },
      "outputs": [
        {
          "name": "stderr",
          "output_type": "stream",
          "text": [
            "WARNING: You are using pip version 20.2.3; however, version 24.0 is available.\n",
            "You should consider upgrading via the 'c:\\users\\m s i\\appdata\\local\\programs\\python\\python38\\python.exe -m pip install --upgrade pip' command.\n"
          ]
        },
        {
          "name": "stdout",
          "output_type": "stream",
          "text": [
            "Requirement already satisfied: scikit-plot in c:\\users\\m s i\\appdata\\local\\programs\\python\\python38\\lib\\site-packages (0.3.7)\n",
            "Requirement already satisfied: matplotlib>=1.4.0 in c:\\users\\m s i\\appdata\\local\\programs\\python\\python38\\lib\\site-packages (from scikit-plot) (3.7.3)\n",
            "Requirement already satisfied: joblib>=0.10 in c:\\users\\m s i\\appdata\\local\\programs\\python\\python38\\lib\\site-packages (from scikit-plot) (1.2.0)\n",
            "Requirement already satisfied: scipy>=0.9 in c:\\users\\m s i\\appdata\\local\\programs\\python\\python38\\lib\\site-packages (from scikit-plot) (1.10.1)\n",
            "Requirement already satisfied: scikit-learn>=0.18 in c:\\users\\m s i\\appdata\\local\\programs\\python\\python38\\lib\\site-packages (from scikit-plot) (1.3.1)\n",
            "Requirement already satisfied: pyparsing>=2.3.1 in c:\\users\\m s i\\appdata\\local\\programs\\python\\python38\\lib\\site-packages (from matplotlib>=1.4.0->scikit-plot) (3.1.1)\n",
            "Requirement already satisfied: kiwisolver>=1.0.1 in c:\\users\\m s i\\appdata\\local\\programs\\python\\python38\\lib\\site-packages (from matplotlib>=1.4.0->scikit-plot) (1.4.5)\n",
            "Requirement already satisfied: contourpy>=1.0.1 in c:\\users\\m s i\\appdata\\local\\programs\\python\\python38\\lib\\site-packages (from matplotlib>=1.4.0->scikit-plot) (1.1.1)\n",
            "Requirement already satisfied: python-dateutil>=2.7 in c:\\users\\m s i\\appdata\\roaming\\python\\python38\\site-packages (from matplotlib>=1.4.0->scikit-plot) (2.8.2)\n",
            "Requirement already satisfied: importlib-resources>=3.2.0; python_version < \"3.10\" in c:\\users\\m s i\\appdata\\local\\programs\\python\\python38\\lib\\site-packages (from matplotlib>=1.4.0->scikit-plot) (6.1.0)\n",
            "Requirement already satisfied: packaging>=20.0 in c:\\users\\m s i\\appdata\\local\\programs\\python\\python38\\lib\\site-packages (from matplotlib>=1.4.0->scikit-plot) (23.0)\n",
            "Requirement already satisfied: fonttools>=4.22.0 in c:\\users\\m s i\\appdata\\local\\programs\\python\\python38\\lib\\site-packages (from matplotlib>=1.4.0->scikit-plot) (4.43.0)\n",
            "Requirement already satisfied: pillow>=6.2.0 in c:\\users\\m s i\\appdata\\local\\programs\\python\\python38\\lib\\site-packages (from matplotlib>=1.4.0->scikit-plot) (9.3.0)\n",
            "Requirement already satisfied: cycler>=0.10 in c:\\users\\m s i\\appdata\\local\\programs\\python\\python38\\lib\\site-packages (from matplotlib>=1.4.0->scikit-plot) (0.12.0)\n",
            "Requirement already satisfied: numpy<2,>=1.20 in c:\\users\\m s i\\appdata\\local\\programs\\python\\python38\\lib\\site-packages (from matplotlib>=1.4.0->scikit-plot) (1.24.4)\n",
            "Requirement already satisfied: threadpoolctl>=2.0.0 in c:\\users\\m s i\\appdata\\local\\programs\\python\\python38\\lib\\site-packages (from scikit-learn>=0.18->scikit-plot) (3.2.0)\n",
            "Requirement already satisfied: six>=1.5 in c:\\users\\m s i\\appdata\\local\\programs\\python\\python38\\lib\\site-packages (from python-dateutil>=2.7->matplotlib>=1.4.0->scikit-plot) (1.16.0)\n",
            "Requirement already satisfied: zipp>=3.1.0; python_version < \"3.10\" in c:\\users\\m s i\\appdata\\roaming\\python\\python38\\site-packages (from importlib-resources>=3.2.0; python_version < \"3.10\"->matplotlib>=1.4.0->scikit-plot) (3.15.0)\n"
          ]
        },
        {
          "data": {
            "text/plain": [
              "<Axes: title={'center': 'Cumulative Gains Curve'}, xlabel='Percentage of sample', ylabel='Gain'>"
            ]
          },
          "execution_count": 54,
          "metadata": {},
          "output_type": "execute_result"
        },
        {
          "data": {
            "image/png": "[encoded data removed]",
            "text/plain": [
              "<Figure size 640x480 with 1 Axes>"
            ]
          },
          "metadata": {},
          "output_type": "display_data"
        }
      ],
      "source": [
        "# load scikitplot untuk visualisasi metrik\n",
        "### logistic_regression -> diambil yang paling best model\n",
        "!pip install scikit-plot\n",
        "import scikitplot as skplt\n",
        "skplt.metrics.plot_cumulative_gain(y_test, logistic_model.predict_proba(X_test))\n",
        "#plot_cumulative_gain(y_actual, y_prediksi)"
      ]
    },
    {
      "cell_type": "code",
      "execution_count": null,
      "id": "cad299d5",
      "metadata": {
        "id": "cad299d5",
        "outputId": "b95e5ed8-d0ec-4586-b96d-ef0015af50e3"
      },
      "outputs": [
        {
          "data": {
            "text/plain": [
              "<Axes: title={'center': 'Lift Curve'}, xlabel='Percentage of sample', ylabel='Lift'>"
            ]
          },
          "execution_count": 55,
          "metadata": {},
          "output_type": "execute_result"
        },
        {
          "data": {
            "image/png": "[encoded data removed]",
            "text/plain": [
              "<Figure size 640x480 with 1 Axes>"
            ]
          },
          "metadata": {},
          "output_type": "display_data"
        }
      ],
      "source": [
        "skplt.metrics.plot_lift_curve(y_test, logistic_model.predict_proba(X_test))"
      ]
    },
    {
      "cell_type": "code",
      "execution_count": null,
      "id": "c81182fb",
      "metadata": {
        "id": "c81182fb"
      },
      "outputs": [],
      "source": [
        "from sklearn.metrics import confusion_matrix\n",
        "def value_prediction(y_actual, y_prediction):\n",
        "    tn, fp, fn, tp = confusion_matrix(y_actual, y_prediction).ravel()\n",
        "    print('TN :',tn)\n",
        "    print('TP :',tp)\n",
        "    print('FN :',fn)\n",
        "    print('FP :',fp)"
      ]
    },
    {
      "cell_type": "code",
      "execution_count": null,
      "id": "8b13d260",
      "metadata": {
        "id": "8b13d260",
        "outputId": "43fb5eab-098d-43ad-8a43-4393ad14b9f3"
      },
      "outputs": [
        {
          "name": "stdout",
          "output_type": "stream",
          "text": [
            "TN : 2823\n",
            "TP : 511\n",
            "FN : 359\n",
            "FP : 721\n"
          ]
        }
      ],
      "source": [
        "value_prediction(y_test, logistic_model.predict(X_test))"
      ]
    },
    {
      "cell_type": "code",
      "execution_count": null,
      "id": "de3d7066",
      "metadata": {
        "id": "de3d7066"
      },
      "outputs": [],
      "source": [
        "def get_value(y_actual, y_prediction):\n",
        "    tn, fp, fn, tp = confusion_matrix(y_actual, y_prediction).ravel()\n",
        "    return tn, fp, fn, tp"
      ]
    },
    {
      "cell_type": "markdown",
      "id": "74b27e2c",
      "metadata": {
        "id": "74b27e2c"
      },
      "source": [
        "Menggunakan metrik klasifikasi dapat membantu menganalisis performa model, terutama dalam konteks prediksi kelas.\n",
        "- class_1 adalah total prediksi model yang termasuk dalam kelas positif, baik yang benar-benar positif maupun yang sebenarnya negatif tetapi salah diprediksi sebagai positif.\n",
        "- class_0 mencakup semua prediksi yang seharusnya kelas 0 (negatif), baik yang benar-benar diklasifikasikan dengan benar maupun yang salah diklasifikasikan sebagai kelas 1."
      ]
    },
    {
      "cell_type": "code",
      "execution_count": null,
      "id": "5d0eb2b1",
      "metadata": {
        "id": "5d0eb2b1",
        "outputId": "7f5386a2-53e7-4429-c204-b021f048b2c6"
      },
      "outputs": [
        {
          "name": "stdout",
          "output_type": "stream",
          "text": [
            "Prediksi AI-ML kelas 1 (churn) : 1232\n",
            "Prediksi AI-ML kelas 0 (churn) : 3182\n"
          ]
        }
      ],
      "source": [
        "tn, fp, fn,tp = get_value(y_test, logistic_model.predict(X_test))\n",
        "class_1 = tp+fp\n",
        "print('Prediksi AI-ML kelas 1 (churn) :', class_1)\n",
        "class_0 = tn+fn\n",
        "print('Prediksi AI-ML kelas 0 (churn) :', class_0)"
      ]
    },
    {
      "cell_type": "code",
      "execution_count": null,
      "id": "4ca400e2",
      "metadata": {
        "id": "4ca400e2",
        "outputId": "74a6a420-ac0b-44a6-be0f-a7604f95a327"
      },
      "outputs": [
        {
          "data": {
            "text/plain": [
              "0    3182\n",
              "1    1232\n",
              "Name: count, dtype: int64"
            ]
          },
          "execution_count": 71,
          "metadata": {},
          "output_type": "execute_result"
        }
      ],
      "source": [
        "# sama kaya data diatas\n",
        "y_pred = pd.DataFrame(logistic_model.predict(X_test))\n",
        "y_pred.value_counts()"
      ]
    },
    {
      "cell_type": "code",
      "execution_count": null,
      "id": "db50a83d",
      "metadata": {
        "id": "db50a83d",
        "outputId": "fcae9c43-f879-4584-bab8-bd3754e8ef20"
      },
      "outputs": [
        {
          "name": "stdout",
          "output_type": "stream",
          "text": [
            "total data pada X_test : 4414\n"
          ]
        }
      ],
      "source": [
        "print('total data pada X_test :', 1232+3182)"
      ]
    },
    {
      "cell_type": "code",
      "execution_count": null,
      "id": "eb3c1fad",
      "metadata": {
        "id": "eb3c1fad",
        "outputId": "8a5f2f1b-d649-424c-9860-2f40f5caec1e"
      },
      "outputs": [
        {
          "name": "stdout",
          "output_type": "stream",
          "text": [
            "total populasi : 4414 orang\n",
            "50% sample keseluruhan kelas 1 dan 0 : 2207.0 orang\n",
            "Jumlah % responders (Gain) yang berpotensi churn :, 973.2800000000001 orang\n"
          ]
        }
      ],
      "source": [
        "print(f'total populasi : {len(X_test)} orang')\n",
        "print(f'50% sample keseluruhan kelas 1 dan 0 : {0.5 * len(X_test)} orang')\n",
        "print(f'Jumlah % responders (Gain) yang berpotensi churn :, {0.79 * class_1} orang')"
      ]
    },
    {
      "cell_type": "code",
      "execution_count": null,
      "id": "bc42dbba",
      "metadata": {
        "id": "bc42dbba",
        "outputId": "aa0b16c1-4bbf-4025-e289-7eb12953523f"
      },
      "outputs": [
        {
          "name": "stdout",
          "output_type": "stream",
          "text": [
            "1 = orang yang churn\n",
            "0 = orang yang Tidak churn\n",
            "Tapi faktanya, setelah kita lakukan promosi direntang waktu tertentu yg kita dapatkan hasil seperti ini : \n"
          ]
        },
        {
          "data": {
            "text/plain": [
              "churn\n",
              "0    3544\n",
              "1     870\n",
              "Name: count, dtype: int64"
            ]
          },
          "execution_count": 63,
          "metadata": {},
          "output_type": "execute_result"
        }
      ],
      "source": [
        "print('1 = orang yang churn')\n",
        "print('0 = orang yang Tidak churn')\n",
        "print('Tapi faktanya, setelah kita lakukan promosi direntang waktu tertentu yg kita dapatkan hasil seperti ini : ')\n",
        "y_test.value_counts()"
      ]
    },
    {
      "cell_type": "code",
      "execution_count": null,
      "id": "11c09a75",
      "metadata": {
        "id": "11c09a75",
        "outputId": "3895585c-923f-46fa-b3d8-019352d1bac0"
      },
      "outputs": [
        {
          "name": "stdout",
          "output_type": "stream",
          "text": [
            "Faktanya Orang yang Tidak churn (Failed Prediction) : ,103.28000000000009 orang\n",
            "Orang yang benar-benar churn ialah : 870 orang\n",
            "Selain itu secara lift chart, dengan 50% sample kita hampir dapat 2x performa lebih baik daripada pengambilan random dari hasil prediksi\n"
          ]
        }
      ],
      "source": [
        "print(f'Faktanya Orang yang Tidak churn (Failed Prediction) : ,{0.79 * class_1 - 870} orang')\n",
        "print(f'Orang yang benar-benar churn ialah : {870} orang' )\n",
        "print('Selain itu secara lift chart, dengan 50% sample kita hampir dapat 2x performa lebih baik daripada pengambilan random dari hasil prediksi')"
      ]
    },
    {
      "cell_type": "code",
      "execution_count": null,
      "id": "d7c93355",
      "metadata": {
        "id": "d7c93355",
        "outputId": "264256b0-4efa-45d2-d11a-323bd1cbc667"
      },
      "outputs": [
        {
          "data": {
            "text/plain": [
              "array([1, 0, 0, ..., 0, 0, 0], dtype=int64)"
            ]
          },
          "execution_count": 65,
          "metadata": {},
          "output_type": "execute_result"
        }
      ],
      "source": [
        "#data actual\n",
        "np.array(y_test)"
      ]
    },
    {
      "cell_type": "code",
      "execution_count": null,
      "id": "2afa9d1f",
      "metadata": {
        "id": "2afa9d1f",
        "outputId": "255080ed-498d-47d4-d374-5015345e1409"
      },
      "outputs": [
        {
          "data": {
            "text/plain": [
              "array([1, 0, 0, ..., 1, 0, 0], dtype=int64)"
            ]
          },
          "execution_count": 66,
          "metadata": {},
          "output_type": "execute_result"
        }
      ],
      "source": [
        "#Value Prediction\n",
        "logistic_model.predict(X_test)"
      ]
    },
    {
      "cell_type": "markdown",
      "id": "0676b324",
      "metadata": {
        "id": "0676b324"
      },
      "source": [
        "### Performa random sampling (pengambilan acak dari customer yg berpotensi churn)"
      ]
    },
    {
      "cell_type": "code",
      "execution_count": null,
      "id": "daaf17ce",
      "metadata": {
        "id": "daaf17ce",
        "outputId": "911eb07f-3718-4be5-fdd0-096bf619e5ee"
      },
      "outputs": [
        {
          "name": "stdout",
          "output_type": "stream",
          "text": [
            "orang yang churn ada : , 616.0 orang\n",
            "Faktanya Orang yang Tidak churn (Failed Prediction) : -254.0 orang\n",
            "Dengan potensi lift chartnya ialah 1x saja dengan pengambilan random dari hasil prediksi\n"
          ]
        }
      ],
      "source": [
        "# Dari gain chart diatas, kalau kita ambil 40% sampling maka kita akan mendapat 40% responden churn customer\n",
        "# Maka kemungkinan kita hanya mendapat :\n",
        "\n",
        "print(f'orang yang churn ada : , {0.5 * class_1} orang')\n",
        "print(f'Faktanya Orang yang Tidak churn (Failed Prediction) : {0.5 * class_1 - 870} orang')\n",
        "print(f'Dengan potensi lift chartnya ialah 1x saja dengan pengambilan random dari hasil prediksi')"
      ]
    },
    {
      "cell_type": "markdown",
      "id": "1BxGoMT-MNqz",
      "metadata": {
        "id": "1BxGoMT-MNqz"
      },
      "source": [
        "## Notes :\n",
        "Kumpulkan di LMS link google collab yang sudah dibuka aksesnya + sudah di run dan save output codenya + cantumkan link postingan linkedin di markdown google collab\n",
        "\n",
        "### Link Postingan Linkedin (cantumkan disini) : https://www.linkedin.com/posts/naurah-nazhifah-73a936234_google-colaboratory-activity-7164603251240132608-NMPG?utm_source=share&utm_medium=member_desktop"
      ]
    }
  ],
  "metadata": {
    "colab": {
      "provenance": []
    },
    "kernelspec": {
      "display_name": "Python 3 (ipykernel)",
      "language": "python",
      "name": "python3"
    },
    "language_info": {
      "codemirror_mode": {
        "name": "ipython",
        "version": 3
      },
      "file_extension": ".py",
      "mimetype": "text/x-python",
      "name": "python",
      "nbconvert_exporter": "python",
      "pygments_lexer": "ipython3",
      "version": "3.8.7"
    }
  },
  "nbformat": 4,
  "nbformat_minor": 5
}